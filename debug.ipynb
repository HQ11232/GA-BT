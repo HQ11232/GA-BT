{
 "cells": [
  {
   "cell_type": "code",
   "execution_count": 1,
   "metadata": {},
   "outputs": [],
   "source": [
    "%load_ext autoreload\n",
    "%autoreload 2"
   ]
  },
  {
   "cell_type": "code",
   "execution_count": 3,
   "metadata": {},
   "outputs": [],
   "source": [
    "from deep_traffic.libtraffic import env\n",
    "from behavior_tree.conditions_checker import BasicConditionChecker"
   ]
  },
  {
   "cell_type": "code",
   "execution_count": 4,
   "metadata": {},
   "outputs": [
    {
     "name": "stdout",
     "output_type": "stream",
     "text": [
      "(7, 7, 50)\n"
     ]
    }
   ],
   "source": [
    "e = env.DeepTraffic(lanes_side=3, patches_ahead=40,\n",
    "                    patches_behind=10, history=1, obs='conv')\n",
    "obs_shape = e.obs_shape\n",
    "print(obs_shape)"
   ]
  },
  {
   "cell_type": "code",
   "execution_count": 5,
   "metadata": {},
   "outputs": [
    {
     "data": {
      "text/plain": [
       "array([[1.    , 0.0325, 1.    , 1.    , 1.    , 1.    , 0.0325],\n",
       "       [1.    , 0.0325, 1.    , 1.    , 1.    , 1.    , 0.0325],\n",
       "       [1.    , 0.0325, 1.    , 1.    , 1.    , 1.    , 0.0325],\n",
       "       [1.    , 1.    , 1.    , 1.    , 1.    , 1.    , 0.0325],\n",
       "       [1.    , 1.    , 1.    , 1.    , 1.    , 1.    , 1.    ],\n",
       "       [0.0325, 1.    , 1.    , 1.    , 1.    , 1.    , 1.    ],\n",
       "       [0.0325, 1.    , 1.    , 1.    , 1.    , 1.    , 1.    ],\n",
       "       [0.0325, 1.    , 1.    , 1.    , 1.    , 1.    , 1.    ],\n",
       "       [0.0325, 1.    , 1.    , 1.    , 1.    , 1.    , 0.0325],\n",
       "       [1.    , 1.    , 1.    , 1.    , 1.    , 1.    , 0.0325],\n",
       "       [1.    , 1.    , 1.    , 1.    , 1.    , 1.    , 0.0325],\n",
       "       [1.    , 0.0325, 1.    , 1.    , 1.    , 1.    , 0.0325],\n",
       "       [1.    , 0.0325, 1.    , 1.    , 1.    , 1.    , 1.    ],\n",
       "       [1.    , 0.0325, 1.    , 1.    , 1.    , 1.    , 1.    ],\n",
       "       [1.    , 0.0325, 1.    , 1.    , 1.    , 1.    , 1.    ],\n",
       "       [1.    , 1.    , 1.    , 1.    , 1.    , 1.    , 1.    ],\n",
       "       [1.    , 1.    , 1.    , 1.    , 1.    , 1.    , 1.    ],\n",
       "       [1.    , 1.    , 1.    , 1.    , 1.    , 1.    , 1.    ],\n",
       "       [1.    , 1.    , 1.    , 1.    , 1.    , 1.    , 1.    ],\n",
       "       [1.    , 1.    , 1.    , 1.    , 1.    , 1.    , 1.    ],\n",
       "       [1.    , 1.    , 0.0325, 1.    , 1.    , 1.    , 1.    ],\n",
       "       [1.    , 1.    , 0.0325, 1.    , 1.    , 1.    , 0.0325],\n",
       "       [1.    , 1.    , 0.0325, 1.    , 1.    , 1.    , 0.0325],\n",
       "       [1.    , 1.    , 0.0325, 1.    , 1.    , 1.    , 0.0325],\n",
       "       [1.    , 1.    , 1.    , 1.    , 1.    , 1.    , 0.0325],\n",
       "       [1.    , 1.    , 1.    , 1.    , 1.    , 1.    , 1.    ],\n",
       "       [1.    , 1.    , 1.    , 1.    , 1.    , 1.    , 1.    ],\n",
       "       [1.    , 1.    , 0.016 , 1.    , 1.    , 1.    , 1.    ],\n",
       "       [1.    , 1.    , 0.016 , 1.    , 1.    , 1.    , 1.    ],\n",
       "       [1.    , 1.    , 0.016 , 1.    , 1.    , 1.    , 1.    ],\n",
       "       [1.    , 1.    , 0.016 , 0.0325, 1.    , 1.    , 1.    ],\n",
       "       [1.    , 1.    , 1.    , 0.0325, 0.0325, 1.    , 1.    ],\n",
       "       [1.    , 1.    , 1.    , 0.0325, 0.0325, 1.    , 1.    ],\n",
       "       [0.0325, 1.    , 0.008 , 0.0325, 0.0325, 1.    , 1.    ],\n",
       "       [0.0325, 1.    , 0.008 , 1.    , 0.0325, 1.    , 1.    ],\n",
       "       [0.0325, 1.    , 0.008 , 1.    , 1.    , 1.    , 1.    ],\n",
       "       [0.0325, 0.0325, 0.008 , 1.    , 1.    , 1.    , 1.    ],\n",
       "       [1.    , 0.0325, 1.    , 1.    , 0.016 , 1.    , 1.    ],\n",
       "       [1.    , 0.0325, 1.    , 1.    , 0.016 , 1.    , 1.    ],\n",
       "       [1.    , 0.0325, 1.    , 1.    , 0.016 , 1.    , 1.    ],\n",
       "       [1.    , 1.    , 1.    , 0.04  , 0.016 , 1.    , 1.    ],\n",
       "       [1.    , 1.    , 1.    , 0.04  , 1.    , 1.    , 1.    ],\n",
       "       [1.    , 1.    , 1.    , 0.04  , 1.    , 1.    , 1.    ],\n",
       "       [1.    , 1.    , 0.0325, 0.04  , 1.    , 1.    , 1.    ],\n",
       "       [1.    , 1.    , 0.0325, 1.    , 1.    , 1.    , 1.    ],\n",
       "       [1.    , 1.    , 0.0325, 1.    , 1.    , 0.0325, 1.    ],\n",
       "       [1.    , 1.    , 0.0325, 1.    , 1.    , 0.0325, 1.    ],\n",
       "       [1.    , 1.    , 1.    , 1.    , 1.    , 0.0325, 1.    ],\n",
       "       [1.    , 1.    , 1.    , 1.    , 1.    , 0.0325, 1.    ],\n",
       "       [1.    , 1.    , 1.    , 1.    , 1.    , 1.    , 1.    ]],\n",
       "      dtype=float32)"
      ]
     },
     "execution_count": 5,
     "metadata": {},
     "output_type": "execute_result"
    }
   ],
   "source": [
    "s = e.reset()\n",
    "s[0].T"
   ]
  },
  {
   "cell_type": "code",
   "execution_count": 6,
   "metadata": {},
   "outputs": [],
   "source": [
    "condition_checker = BasicConditionChecker(e)"
   ]
  },
  {
   "cell_type": "code",
   "execution_count": 7,
   "metadata": {},
   "outputs": [
    {
     "data": {
      "text/plain": [
       "array([[1.    , 0.0325, 1.    , 1.    , 1.    , 1.    , 0.0325],\n",
       "       [1.    , 0.0325, 1.    , 1.    , 1.    , 1.    , 0.0325],\n",
       "       [1.    , 0.0325, 1.    , 1.    , 1.    , 1.    , 0.0325],\n",
       "       [1.    , 1.    , 1.    , 1.    , 1.    , 1.    , 0.0325],\n",
       "       [1.    , 1.    , 1.    , 1.    , 1.    , 1.    , 1.    ],\n",
       "       [0.0325, 1.    , 1.    , 1.    , 1.    , 1.    , 1.    ],\n",
       "       [0.0325, 1.    , 1.    , 1.    , 1.    , 1.    , 1.    ],\n",
       "       [0.0325, 1.    , 1.    , 1.    , 1.    , 1.    , 1.    ],\n",
       "       [0.0325, 1.    , 1.    , 1.    , 1.    , 1.    , 0.0325],\n",
       "       [1.    , 1.    , 1.    , 1.    , 1.    , 1.    , 0.0325],\n",
       "       [1.    , 1.    , 1.    , 1.    , 1.    , 1.    , 0.0325],\n",
       "       [1.    , 0.0325, 1.    , 1.    , 1.    , 1.    , 0.0325],\n",
       "       [1.    , 0.0325, 1.    , 1.    , 1.    , 1.    , 1.    ],\n",
       "       [1.    , 0.0325, 1.    , 1.    , 1.    , 1.    , 1.    ],\n",
       "       [1.    , 0.0325, 1.    , 1.    , 1.    , 1.    , 1.    ],\n",
       "       [1.    , 1.    , 1.    , 1.    , 1.    , 1.    , 1.    ],\n",
       "       [1.    , 1.    , 1.    , 1.    , 1.    , 1.    , 1.    ],\n",
       "       [1.    , 1.    , 1.    , 1.    , 1.    , 1.    , 1.    ],\n",
       "       [1.    , 1.    , 1.    , 1.    , 1.    , 1.    , 1.    ],\n",
       "       [1.    , 1.    , 1.    , 1.    , 1.    , 1.    , 1.    ],\n",
       "       [1.    , 1.    , 0.0325, 1.    , 1.    , 1.    , 1.    ],\n",
       "       [1.    , 1.    , 0.0325, 1.    , 1.    , 1.    , 0.0325],\n",
       "       [1.    , 1.    , 0.0325, 1.    , 1.    , 1.    , 0.0325],\n",
       "       [1.    , 1.    , 0.0325, 1.    , 1.    , 1.    , 0.0325],\n",
       "       [1.    , 1.    , 1.    , 1.    , 1.    , 1.    , 0.0325],\n",
       "       [1.    , 1.    , 1.    , 1.    , 1.    , 1.    , 1.    ],\n",
       "       [1.    , 1.    , 1.    , 1.    , 1.    , 1.    , 1.    ],\n",
       "       [1.    , 1.    , 0.016 , 1.    , 1.    , 1.    , 1.    ],\n",
       "       [1.    , 1.    , 0.016 , 1.    , 1.    , 1.    , 1.    ],\n",
       "       [1.    , 1.    , 0.016 , 1.    , 1.    , 1.    , 1.    ],\n",
       "       [1.    , 1.    , 0.016 , 0.0325, 1.    , 1.    , 1.    ],\n",
       "       [1.    , 1.    , 1.    , 0.0325, 0.0325, 1.    , 1.    ],\n",
       "       [1.    , 1.    , 1.    , 0.0325, 0.0325, 1.    , 1.    ],\n",
       "       [0.0325, 1.    , 0.008 , 0.0325, 0.0325, 1.    , 1.    ],\n",
       "       [0.0325, 1.    , 0.008 , 1.    , 0.0325, 1.    , 1.    ],\n",
       "       [0.0325, 1.    , 0.008 , 1.    , 1.    , 1.    , 1.    ],\n",
       "       [0.0325, 0.0325, 0.008 , 1.    , 1.    , 1.    , 1.    ],\n",
       "       [1.    , 0.0325, 1.    , 1.    , 0.016 , 1.    , 1.    ],\n",
       "       [1.    , 0.0325, 1.    , 1.    , 0.016 , 1.    , 1.    ],\n",
       "       [1.    , 0.0325, 1.    , 1.    , 0.016 , 1.    , 1.    ],\n",
       "       [1.    , 1.    , 1.    , 0.04  , 0.016 , 1.    , 1.    ],\n",
       "       [1.    , 1.    , 1.    , 0.04  , 1.    , 1.    , 1.    ],\n",
       "       [1.    , 1.    , 1.    , 0.04  , 1.    , 1.    , 1.    ],\n",
       "       [1.    , 1.    , 0.0325, 0.04  , 1.    , 1.    , 1.    ],\n",
       "       [1.    , 1.    , 0.0325, 1.    , 1.    , 1.    , 1.    ],\n",
       "       [1.    , 1.    , 0.0325, 1.    , 1.    , 0.0325, 1.    ],\n",
       "       [1.    , 1.    , 0.0325, 1.    , 1.    , 0.0325, 1.    ],\n",
       "       [1.    , 1.    , 1.    , 1.    , 1.    , 0.0325, 1.    ],\n",
       "       [1.    , 1.    , 1.    , 1.    , 1.    , 0.0325, 1.    ],\n",
       "       [1.    , 1.    , 1.    , 1.    , 1.    , 1.    , 1.    ]],\n",
       "      dtype=float32)"
      ]
     },
     "execution_count": 7,
     "metadata": {},
     "output_type": "execute_result"
    }
   ],
   "source": [
    "condition_checker.state.T"
   ]
  },
  {
   "cell_type": "code",
   "execution_count": 8,
   "metadata": {},
   "outputs": [],
   "source": [
    "_ = e.step(4)"
   ]
  },
  {
   "cell_type": "code",
   "execution_count": 9,
   "metadata": {},
   "outputs": [
    {
     "data": {
      "text/plain": [
       "True"
      ]
     },
     "execution_count": 9,
     "metadata": {},
     "output_type": "execute_result"
    }
   ],
   "source": [
    "condition_checker.can_accelerate()"
   ]
  },
  {
   "cell_type": "code",
   "execution_count": null,
   "metadata": {},
   "outputs": [],
   "source": []
  },
  {
   "cell_type": "code",
   "execution_count": 34,
   "metadata": {},
   "outputs": [],
   "source": [
    "import py_trees\n",
    "from behavior_tree.tree.basic_behavior_tree import create_basic_behavior_tree"
   ]
  },
  {
   "cell_type": "code",
   "execution_count": 40,
   "metadata": {},
   "outputs": [
    {
     "name": "stdout",
     "output_type": "stream",
     "text": [
      "Writing C:\\Users\\shiro\\Work\\Intern\\GuildLab\\local\\GA-BT\\planner.dot\n",
      "Writing C:\\Users\\shiro\\Work\\Intern\\GuildLab\\local\\GA-BT\\planner.png\n",
      "Writing C:\\Users\\shiro\\Work\\Intern\\GuildLab\\local\\GA-BT\\planner.svg\n"
     ]
    },
    {
     "data": {
      "text/plain": [
       "{'dot': 'C:\\\\Users\\\\shiro\\\\Work\\\\Intern\\\\GuildLab\\\\local\\\\GA-BT\\\\planner.dot',\n",
       " 'png': 'C:\\\\Users\\\\shiro\\\\Work\\\\Intern\\\\GuildLab\\\\local\\\\GA-BT\\\\planner.png',\n",
       " 'svg': 'C:\\\\Users\\\\shiro\\\\Work\\\\Intern\\\\GuildLab\\\\local\\\\GA-BT\\\\planner.svg'}"
      ]
     },
     "execution_count": 40,
     "metadata": {},
     "output_type": "execute_result"
    }
   ],
   "source": [
    "tree = create_basic_behavior_tree(None, name=\"Planner\") \n",
    "py_trees.display.render_dot_tree(tree.root)"
   ]
  },
  {
   "cell_type": "code",
   "execution_count": 39,
   "metadata": {},
   "outputs": [
    {
     "name": "stdout",
     "output_type": "stream",
     "text": [
      "Blackboard Client\n",
      "  Client Data\n",
      "    name              : Planner\n",
      "    namespace         : /\n",
      "    unique_identifier : bb011d82-881e-4b3b-af41-e7b87b276577\n",
      "    read              : set()\n",
      "    write             : {'/action_num', '/action'}\n",
      "    exclusive         : set()\n",
      "  Variables\n",
      "    /action     : -\n",
      "    /action_num : -\n",
      "\n"
     ]
    }
   ],
   "source": [
    "print(tree.root.blackboard)"
   ]
  }
 ],
 "metadata": {
  "kernelspec": {
   "display_name": "Python 3",
   "language": "python",
   "name": "python3"
  },
  "language_info": {
   "codemirror_mode": {
    "name": "ipython",
    "version": 3
   },
   "file_extension": ".py",
   "mimetype": "text/x-python",
   "name": "python",
   "nbconvert_exporter": "python",
   "pygments_lexer": "ipython3",
   "version": "3.7.6"
  }
 },
 "nbformat": 4,
 "nbformat_minor": 4
}

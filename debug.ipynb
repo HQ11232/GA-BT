{
 "cells": [
  {
   "cell_type": "code",
   "execution_count": 1,
   "metadata": {},
   "outputs": [],
   "source": [
    "%load_ext autoreload\n",
    "%autoreload 2"
   ]
  },
  {
   "cell_type": "code",
   "execution_count": 26,
   "metadata": {},
   "outputs": [],
   "source": [
    "import py_trees\n",
    "from deep_traffic.libtraffic import env\n",
    "from behavior_tree.agent.basic_behavior_tree_agent import BasicBehaviorTreeAgent\n",
    "from behavior_tree.conditions_checker import BasicConditionChecker, GeneticProgrammingConditionChecker\n",
    "from behavior_tree.tree.basic_behavior_tree import create_basic_behavior_tree"
   ]
  },
  {
   "cell_type": "code",
   "execution_count": 27,
   "metadata": {},
   "outputs": [
    {
     "name": "stdout",
     "output_type": "stream",
     "text": [
      "(7, 5, 24)\n"
     ]
    }
   ],
   "source": [
    "e = env.DeepTraffic(lanes_side=2, patches_ahead=20,\n",
    "                    patches_behind=4, history=1, obs='conv')\n",
    "obs_shape = e.obs_shape\n",
    "print(obs_shape)"
   ]
  },
  {
   "cell_type": "code",
   "execution_count": 28,
   "metadata": {},
   "outputs": [],
   "source": [
    "_ = e.reset()"
   ]
  },
  {
   "cell_type": "code",
   "execution_count": 29,
   "metadata": {},
   "outputs": [],
   "source": [
    "condition_checker = GeneticProgrammingConditionChecker(e)"
   ]
  },
  {
   "cell_type": "code",
   "execution_count": 37,
   "metadata": {},
   "outputs": [
    {
     "data": {
      "text/plain": [
       "array([[1.    , 1.    , 1.    , 1.    , 1.    , 1.    , 1.    , 1.    ,\n",
       "        1.    , 1.    , 1.    , 1.    , 1.    , 1.    , 1.    , 1.    ,\n",
       "        1.    , 1.    , 1.    , 1.    , 1.    , 1.    , 1.    , 1.    ],\n",
       "       [0.0325, 0.0325, 1.    , 1.    , 1.    , 0.016 , 0.016 , 0.016 ,\n",
       "        0.016 , 1.    , 1.    , 1.    , 1.    , 1.    , 1.    , 1.    ,\n",
       "        1.    , 1.    , 1.    , 1.    , 1.    , 1.    , 1.    , 1.    ],\n",
       "       [0.0325, 0.0325, 0.0325, 0.0325, 1.    , 1.    , 1.    , 1.    ,\n",
       "        1.    , 1.    , 1.    , 1.    , 1.    , 1.    , 1.    , 1.    ,\n",
       "        1.    , 1.    , 1.    , 1.    , 0.04  , 0.04  , 0.04  , 0.04  ],\n",
       "       [1.    , 1.    , 1.    , 1.    , 1.    , 1.    , 1.    , 1.    ,\n",
       "        1.    , 1.    , 1.    , 1.    , 1.    , 1.    , 1.    , 1.    ,\n",
       "        1.    , 1.    , 1.    , 1.    , 1.    , 1.    , 1.    , 1.    ],\n",
       "       [1.    , 1.    , 1.    , 1.    , 1.    , 1.    , 1.    , 1.    ,\n",
       "        1.    , 1.    , 1.    , 1.    , 1.    , 1.    , 0.0325, 0.0325,\n",
       "        0.0325, 0.0325, 1.    , 1.    , 1.    , 1.    , 1.    , 1.    ]],\n",
       "      dtype=float32)"
      ]
     },
     "execution_count": 37,
     "metadata": {},
     "output_type": "execute_result"
    }
   ],
   "source": [
    "condition_checker.state"
   ]
  },
  {
   "cell_type": "code",
   "execution_count": 38,
   "metadata": {},
   "outputs": [
    {
     "data": {
      "text/plain": [
       "(5, 24)"
      ]
     },
     "execution_count": 38,
     "metadata": {},
     "output_type": "execute_result"
    }
   ],
   "source": [
    "condition_checker.state.shape"
   ]
  },
  {
   "cell_type": "code",
   "execution_count": 40,
   "metadata": {},
   "outputs": [
    {
     "data": {
      "text/plain": [
       "[True,\n",
       " True,\n",
       " True,\n",
       " True,\n",
       " True,\n",
       " True,\n",
       " True,\n",
       " True,\n",
       " True,\n",
       " True,\n",
       " True,\n",
       " True,\n",
       " True,\n",
       " True,\n",
       " True,\n",
       " True,\n",
       " True,\n",
       " True,\n",
       " True,\n",
       " True,\n",
       " True,\n",
       " True,\n",
       " True,\n",
       " True,\n",
       " False,\n",
       " False,\n",
       " True,\n",
       " True,\n",
       " True,\n",
       " False,\n",
       " False,\n",
       " False,\n",
       " False,\n",
       " True,\n",
       " True,\n",
       " True,\n",
       " True,\n",
       " True,\n",
       " True,\n",
       " True,\n",
       " True,\n",
       " True,\n",
       " True,\n",
       " True,\n",
       " True,\n",
       " True,\n",
       " True,\n",
       " True,\n",
       " False,\n",
       " False,\n",
       " False,\n",
       " False,\n",
       " True,\n",
       " True,\n",
       " True,\n",
       " True,\n",
       " True,\n",
       " True,\n",
       " True,\n",
       " True,\n",
       " True,\n",
       " True,\n",
       " True,\n",
       " True,\n",
       " True,\n",
       " True,\n",
       " True,\n",
       " True,\n",
       " False,\n",
       " False,\n",
       " False,\n",
       " False,\n",
       " True,\n",
       " True,\n",
       " True,\n",
       " True,\n",
       " True,\n",
       " True,\n",
       " True,\n",
       " True,\n",
       " True,\n",
       " True,\n",
       " True,\n",
       " True,\n",
       " True,\n",
       " True,\n",
       " True,\n",
       " True,\n",
       " True,\n",
       " True,\n",
       " True,\n",
       " True,\n",
       " True,\n",
       " True,\n",
       " True,\n",
       " True,\n",
       " True,\n",
       " True,\n",
       " True,\n",
       " True,\n",
       " True,\n",
       " True,\n",
       " True,\n",
       " True,\n",
       " True,\n",
       " True,\n",
       " True,\n",
       " True,\n",
       " True,\n",
       " True,\n",
       " False,\n",
       " False,\n",
       " False,\n",
       " False,\n",
       " True,\n",
       " True,\n",
       " True,\n",
       " True,\n",
       " True,\n",
       " True]"
      ]
     },
     "execution_count": 40,
     "metadata": {},
     "output_type": "execute_result"
    }
   ],
   "source": [
    "condition_checker.free_cells()"
   ]
  },
  {
   "cell_type": "code",
   "execution_count": null,
   "metadata": {},
   "outputs": [],
   "source": []
  },
  {
   "cell_type": "code",
   "execution_count": null,
   "metadata": {},
   "outputs": [],
   "source": [
    "agent = BasicBehaviorTreeAgent(condition_checker)\n",
    "print(agent)"
   ]
  },
  {
   "cell_type": "code",
   "execution_count": null,
   "metadata": {},
   "outputs": [],
   "source": []
  },
  {
   "cell_type": "code",
   "execution_count": null,
   "metadata": {},
   "outputs": [],
   "source": [
    "py_trees.logging.level = py_trees.logging.Level.DEBUG\n",
    "# temp loop\n",
    "for i in range(100):\n",
    "    # get action\n",
    "    agent.tick()\n",
    "    action = agent.get_action()\n",
    "    action_num = agent.get_action_num()\n",
    "    print(action_num, action)\n",
    "\n",
    "    # update env\n",
    "    e.step(action_num)\n",
    "    \n",
    "    # render state\n",
    "    print(condition_checker.state.T)"
   ]
  },
  {
   "cell_type": "code",
   "execution_count": null,
   "metadata": {},
   "outputs": [],
   "source": [
    "agent.tree.setup()"
   ]
  }
 ],
 "metadata": {
  "kernelspec": {
   "display_name": "Python 3",
   "language": "python",
   "name": "python3"
  },
  "language_info": {
   "codemirror_mode": {
    "name": "ipython",
    "version": 3
   },
   "file_extension": ".py",
   "mimetype": "text/x-python",
   "name": "python",
   "nbconvert_exporter": "python",
   "pygments_lexer": "ipython3",
   "version": "3.7.6"
  }
 },
 "nbformat": 4,
 "nbformat_minor": 4
}

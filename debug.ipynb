{
 "cells": [
  {
   "cell_type": "code",
   "execution_count": null,
   "metadata": {},
   "outputs": [],
   "source": [
    "%load_ext autoreload\n",
    "%autoreload 2"
   ]
  },
  {
   "cell_type": "code",
   "execution_count": null,
   "metadata": {},
   "outputs": [],
   "source": [
    "import py_trees\n",
    "from deep_traffic.libtraffic import env\n",
    "from behavior_tree.agent.basic_behavior_tree_agent import BasicBehaviorTreeAgent\n",
    "from behavior_tree.conditions_checker import BasicConditionChecker\n",
    "from behavior_tree.tree.basic_behavior_tree import create_basic_behavior_tree"
   ]
  },
  {
   "cell_type": "code",
   "execution_count": null,
   "metadata": {},
   "outputs": [],
   "source": [
    "e = env.DeepTraffic(lanes_side=3, patches_ahead=40,\n",
    "                    patches_behind=10, history=1, obs='conv')\n",
    "obs_shape = e.obs_shape\n",
    "print(obs_shape)"
   ]
  },
  {
   "cell_type": "code",
   "execution_count": null,
   "metadata": {},
   "outputs": [],
   "source": [
    "_ = e.reset()"
   ]
  },
  {
   "cell_type": "code",
   "execution_count": null,
   "metadata": {},
   "outputs": [],
   "source": [
    "condition_checker = BasicConditionChecker(e)"
   ]
  },
  {
   "cell_type": "code",
   "execution_count": null,
   "metadata": {},
   "outputs": [],
   "source": [
    "condition_checker.state.T"
   ]
  },
  {
   "cell_type": "code",
   "execution_count": null,
   "metadata": {},
   "outputs": [],
   "source": []
  },
  {
   "cell_type": "code",
   "execution_count": null,
   "metadata": {},
   "outputs": [],
   "source": [
    "agent = BasicBehaviorTreeAgent(condition_checker)\n",
    "print(agent)"
   ]
  },
  {
   "cell_type": "code",
   "execution_count": null,
   "metadata": {},
   "outputs": [],
   "source": []
  },
  {
   "cell_type": "code",
   "execution_count": null,
   "metadata": {},
   "outputs": [],
   "source": [
    "py_trees.logging.level = py_trees.logging.Level.DEBUG\n",
    "# temp loop\n",
    "for i in range(100):\n",
    "    # get action\n",
    "    agent.tick()\n",
    "    action = agent.get_action()\n",
    "    action_num = agent.get_action_num()\n",
    "    print(action_num, action)\n",
    "\n",
    "    # update env\n",
    "    e.step(action_num)\n",
    "    \n",
    "    # render state\n",
    "    print(condition_checker.state.T)"
   ]
  },
  {
   "cell_type": "code",
   "execution_count": null,
   "metadata": {},
   "outputs": [],
   "source": [
    "agent.tree.setup()"
   ]
  }
 ],
 "metadata": {
  "kernelspec": {
   "display_name": "Python 3",
   "language": "python",
   "name": "python3"
  },
  "language_info": {
   "codemirror_mode": {
    "name": "ipython",
    "version": 3
   },
   "file_extension": ".py",
   "mimetype": "text/x-python",
   "name": "python",
   "nbconvert_exporter": "python",
   "pygments_lexer": "ipython3",
   "version": "3.7.6"
  }
 },
 "nbformat": 4,
 "nbformat_minor": 4
}

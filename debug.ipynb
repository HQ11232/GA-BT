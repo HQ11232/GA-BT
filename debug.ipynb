{
 "cells": [
  {
   "cell_type": "code",
   "execution_count": 1,
   "metadata": {},
   "outputs": [],
   "source": [
    "%load_ext autoreload\n",
    "%autoreload 2"
   ]
  },
  {
   "cell_type": "code",
   "execution_count": 2,
   "metadata": {},
   "outputs": [],
   "source": [
    "import py_trees\n",
    "from deep_traffic.libtraffic import env\n",
    "from behavior_tree.agent import BasicBehaviorTreeAgent, GeneticProgrammingBehaviorTreeAgent\n",
    "from behavior_tree.condition_checker import BasicConditionChecker, GeneticProgrammingConditionChecker\n",
    "from behavior_tree.tree import BasicBehaviorTree, GeneticProgrammingBehaviorTree, ConditionSequenceNode, IntersectConditionSequenceNode\n",
    "from config import *"
   ]
  },
  {
   "cell_type": "markdown",
   "metadata": {},
   "source": [
    "##### Environment"
   ]
  },
  {
   "cell_type": "code",
   "execution_count": 3,
   "metadata": {},
   "outputs": [
    {
     "name": "stdout",
     "output_type": "stream",
     "text": [
      "(7, 7, 40)\n"
     ]
    }
   ],
   "source": [
    "e = env.DeepTraffic(lanes_side=LANES_SIDE, \n",
    "                    patches_ahead=PATCHES_AHEAD,\n",
    "                    patches_behind=PATCHES_BEHIND, \n",
    "                    history=HISTORY, \n",
    "                    obs=OBS)\n",
    "obs_shape = e.obs_shape\n",
    "print(obs_shape)"
   ]
  },
  {
   "cell_type": "code",
   "execution_count": 4,
   "metadata": {},
   "outputs": [
    {
     "name": "stdout",
     "output_type": "stream",
     "text": [
      "(7, 7, 40)\n"
     ]
    }
   ],
   "source": [
    "state = e.reset()\n",
    "print(state.shape)"
   ]
  },
  {
   "cell_type": "code",
   "execution_count": 5,
   "metadata": {},
   "outputs": [
    {
     "name": "stdout",
     "output_type": "stream",
     "text": [
      "[[1.     1.     1.     1.     1.     1.     1.     1.     1.     1.\n",
      "  1.     1.     1.     1.     1.     1.     1.     1.     1.     1.\n",
      "  0.0325 0.0325 0.0325 0.0325 1.     1.     1.     1.     1.     1.\n",
      "  1.     1.     1.     1.     0.0325 0.0325 0.0325 0.0325 1.     1.    ]\n",
      " [1.     1.     1.     1.     0.016  0.016  0.016  0.016  1.     1.\n",
      "  1.     1.     1.     1.     1.     1.     1.     1.     1.     1.\n",
      "  1.     1.     1.     1.     1.     1.     1.     1.     1.     1.\n",
      "  1.     1.     1.     1.     1.     1.     1.     1.     1.     1.    ]\n",
      " [1.     1.     1.     1.     1.     1.     1.     1.     1.     1.\n",
      "  1.     1.     1.     1.     1.     1.     1.     1.     1.     1.\n",
      "  1.     1.     1.     1.     1.     1.     1.     1.     1.     1.\n",
      "  1.     1.     1.     1.     1.     1.     1.     1.     1.     1.    ]\n",
      " [1.     1.     1.     0.0325 0.0325 0.0325 0.0325 1.     1.     1.\n",
      "  1.     1.     1.     1.     0.0325 0.0325 0.0325 0.0325 1.     1.\n",
      "  1.     1.     1.     1.     1.     1.     1.     1.     1.     1.\n",
      "  0.04   0.04   0.04   0.04   1.     1.     1.     1.     1.     1.    ]\n",
      " [1.     1.     1.     1.     0.0325 0.0325 0.0325 0.0325 1.     1.\n",
      "  1.     1.     1.     1.     1.     1.     1.     1.     1.     1.\n",
      "  1.     1.     1.     1.     1.     1.     1.     1.     0.0325 0.0325\n",
      "  0.0325 0.0325 1.     1.     1.     1.     1.     1.     1.     1.    ]\n",
      " [1.     1.     1.     1.     1.     1.     1.     1.     1.     1.\n",
      "  1.     1.     1.     1.     1.     1.     1.     1.     1.     1.\n",
      "  1.     1.     1.     1.     1.     1.     0.0325 0.0325 0.0325 0.0325\n",
      "  1.     1.     1.     1.     0.016  0.016  0.016  0.016  1.     1.    ]\n",
      " [1.     0.0325 0.0325 0.0325 0.0325 1.     1.     1.     1.     1.\n",
      "  1.     1.     1.     1.     1.     1.     1.     1.     1.     1.\n",
      "  1.     1.     1.     0.0325 0.0325 0.0325 0.0325 1.     1.     1.\n",
      "  1.     1.     1.     1.     1.     1.     1.     1.     1.     1.    ]]\n"
     ]
    }
   ],
   "source": [
    "print(state[0])"
   ]
  },
  {
   "cell_type": "markdown",
   "metadata": {},
   "source": [
    "##### ConditionChecker"
   ]
  },
  {
   "cell_type": "code",
   "execution_count": 6,
   "metadata": {},
   "outputs": [],
   "source": [
    "condition_checker = GeneticProgrammingConditionChecker()\n",
    "condition_checker.update_state(state[0])"
   ]
  },
  {
   "cell_type": "code",
   "execution_count": 7,
   "metadata": {},
   "outputs": [
    {
     "name": "stdout",
     "output_type": "stream",
     "text": [
      "(7, 40)\n"
     ]
    }
   ],
   "source": [
    "print(condition_checker.state.shape)"
   ]
  },
  {
   "cell_type": "code",
   "execution_count": 8,
   "metadata": {},
   "outputs": [
    {
     "name": "stdout",
     "output_type": "stream",
     "text": [
      "[[1.     1.     1.     1.     1.     1.     1.     1.     1.     1.\n",
      "  1.     1.     1.     1.     1.     1.     1.     1.     1.     1.\n",
      "  0.0325 0.0325 0.0325 0.0325 1.     1.     1.     1.     1.     1.\n",
      "  1.     1.     1.     1.     0.0325 0.0325 0.0325 0.0325 1.     1.    ]\n",
      " [1.     1.     1.     1.     0.016  0.016  0.016  0.016  1.     1.\n",
      "  1.     1.     1.     1.     1.     1.     1.     1.     1.     1.\n",
      "  1.     1.     1.     1.     1.     1.     1.     1.     1.     1.\n",
      "  1.     1.     1.     1.     1.     1.     1.     1.     1.     1.    ]\n",
      " [1.     1.     1.     1.     1.     1.     1.     1.     1.     1.\n",
      "  1.     1.     1.     1.     1.     1.     1.     1.     1.     1.\n",
      "  1.     1.     1.     1.     1.     1.     1.     1.     1.     1.\n",
      "  1.     1.     1.     1.     1.     1.     1.     1.     1.     1.    ]\n",
      " [1.     1.     1.     0.0325 0.0325 0.0325 0.0325 1.     1.     1.\n",
      "  1.     1.     1.     1.     0.0325 0.0325 0.0325 0.0325 1.     1.\n",
      "  1.     1.     1.     1.     1.     1.     1.     1.     1.     1.\n",
      "  0.04   0.04   0.04   0.04   1.     1.     1.     1.     1.     1.    ]\n",
      " [1.     1.     1.     1.     0.0325 0.0325 0.0325 0.0325 1.     1.\n",
      "  1.     1.     1.     1.     1.     1.     1.     1.     1.     1.\n",
      "  1.     1.     1.     1.     1.     1.     1.     1.     0.0325 0.0325\n",
      "  0.0325 0.0325 1.     1.     1.     1.     1.     1.     1.     1.    ]\n",
      " [1.     1.     1.     1.     1.     1.     1.     1.     1.     1.\n",
      "  1.     1.     1.     1.     1.     1.     1.     1.     1.     1.\n",
      "  1.     1.     1.     1.     1.     1.     0.0325 0.0325 0.0325 0.0325\n",
      "  1.     1.     1.     1.     0.016  0.016  0.016  0.016  1.     1.    ]\n",
      " [1.     0.0325 0.0325 0.0325 0.0325 1.     1.     1.     1.     1.\n",
      "  1.     1.     1.     1.     1.     1.     1.     1.     1.     1.\n",
      "  1.     1.     1.     0.0325 0.0325 0.0325 0.0325 1.     1.     1.\n",
      "  1.     1.     1.     1.     1.     1.     1.     1.     1.     1.    ]]\n"
     ]
    }
   ],
   "source": [
    "print(condition_checker.state)"
   ]
  },
  {
   "cell_type": "markdown",
   "metadata": {},
   "source": [
    "##### BTAgent"
   ]
  },
  {
   "cell_type": "code",
   "execution_count": 9,
   "metadata": {},
   "outputs": [],
   "source": [
    "agent = GeneticProgrammingBehaviorTreeAgent()"
   ]
  },
  {
   "cell_type": "code",
   "execution_count": 10,
   "metadata": {},
   "outputs": [
    {
     "name": "stdout",
     "output_type": "stream",
     "text": [
      "[o] root\n",
      "    [o] InitRoot\n",
      "        [-] SafetyNode\n",
      "            --> SafetyCond\n",
      "            --> SafetyAct\n",
      "        --> LearnAct\n",
      "\n"
     ]
    }
   ],
   "source": [
    "# display tree\n",
    "agent.display_tree()"
   ]
  },
  {
   "cell_type": "code",
   "execution_count": 11,
   "metadata": {},
   "outputs": [
    {
     "name": "stdout",
     "output_type": "stream",
     "text": [
      "Blackboard Client\n",
      "  Client Data\n",
      "    name              : root\n",
      "    namespace         : /\n",
      "    unique_identifier : d791745e-e65e-4116-a4ce-4b223fd1bb89\n",
      "    read              : {'/action'}\n",
      "    write             : {'/speed', '/cell_condition'}\n",
      "    exclusive         : set()\n",
      "  Variables\n",
      "    /action         : -\n",
      "    /speed          : 80.0\n",
      "    /cell_condition : {'0': False, '1': False, '2': False, '3': False, '4': False, '5': False, '6': False, '7': False, '8': False, '9': False, '10': False, '11': False, '12': False, '13': False, '14': False, '15': False, '16': False, '17': False, '18': False, '19': False, '20': True, '21': True, '22': True, '23': True, '24': False, '25': False, '26': False, '27': False, '28': False, '29': False, '30': False, '31': False, '32': False, '33': False, '34': True, '35': True, '36': True, '37': True, '38': False, '39': False, '40': False, '41': False, '42': False, '43': False, '44': True, '45': True, '46': True, '47': True, '48': False, '49': False, '50': False, '51': False, '52': False, '53': False, '54': False, '55': False, '56': False, '57': False, '58': False, '59': False, '60': False, '61': False, '62': False, '63': False, '64': False, '65': False, '66': False, '67': False, '68': False, '69': False, '70': False, '71': False, '72': False, '73': False, '74': False, '75': False, '76': False, '77': False, '78': False, '79': False, '80': False, '81': False, '82': False, '83': False, '84': False, '85': False, '86': False, '87': False, '88': False, '89': False, '90': False, '91': False, '92': False, '93': False, '94': False, '95': False, '96': False, '97': False, '98': False, '99': False, '100': False, '101': False, '102': False, '103': False, '104': False, '105': False, '106': False, '107': False, '108': False, '109': False, '110': False, '111': False, '112': False, '113': False, '114': False, '115': False, '116': False, '117': False, '118': False, '119': False, '120': False, '121': False, '122': False, '123': True, '124': True, '125': True, '126': True, '127': False, '128': False, '129': False, '130': False, '131': False, '132': False, '133': False, '134': True, '135': True, '136': True, '137': True, '138': False, '139': False, '140': False, '141': False, '142': False, '143': False, '144': False, '145': False, '146': False, '147': False, '148': False, '149': False, '150': True, '151': True, '152': True, '153': True, '154': False, '155': False, '156': False, '157': False, '158': False, '159': False, '160': False, '161': False, '162': False, '163': False, '164': True, '165': True, '166': True, '167': True, '168': False, '169': False, '170': False, '171': False, '172': False, '173': False, '174': False, '175': False, '176': False, '177': False, '178': False, '179': False, '180': False, '181': False, '182': False, '183': False, '184': False, '185': False, '186': False, '187': False, '188': True, '189': True, '190': True, '191': True, '192': False, '193': False, '194': False, '195': False, '196': False, '197': False, '198': False, '199': False, '200': False, '201': False, '202': False, '203': False, '204': False, '205': False, '206': False, '207': False, '208': False, '209': False, '210': False, '211': False, '212': False, '213': False, '214': False, '215': False, '216': False, '217': False, '218': False, '219': False, '220': False, '221': False, '222': False, '223': False, '224': False, '225': False, '226': True, '227': True, '228': True, '229': True, '230': False, '231': False, '232': False, '233': False, '234': True, '235': True, '236': True, '237': True, '238': False, '239': False, '240': False, '241': True, '242': True, '243': True, '244': True, '245': False, '246': False, '247': False, '248': False, '249': False, '250': False, '251': False, '252': False, '253': False, '254': False, '255': False, '256': False, '257': False, '258': False, '259': False, '260': False, '261': False, '262': False, '263': True, '264': True, '265': True, '266': True, '267': False, '268': False, '269': False, '270': False, '271': False, '272': False, '273': False, '274': False, '275': False, '276': False, '277': False, '278': False, '279': False}\n",
      "\n"
     ]
    }
   ],
   "source": [
    "# tick\n",
    "agent.update_condition_checker(state[0])\n",
    "agent.update_blackboard()\n",
    "print(agent.blackboard)"
   ]
  },
  {
   "cell_type": "code",
   "execution_count": null,
   "metadata": {},
   "outputs": [],
   "source": []
  },
  {
   "cell_type": "code",
   "execution_count": 12,
   "metadata": {},
   "outputs": [],
   "source": [
    "from train import train_GP_BT"
   ]
  },
  {
   "cell_type": "code",
   "execution_count": 16,
   "metadata": {},
   "outputs": [
    {
     "name": "stdout",
     "output_type": "stream",
     "text": [
      "[DEBUG] root                 : Selector.tick()\n",
      "[DEBUG] InitRoot             : Selector.tick()\n",
      "[DEBUG] SafetyNode           : Sequence.tick()\n",
      "[DEBUG] SafetyNode           : Sequence.tick() [!RUNNING->resetting child index]\n",
      "[DEBUG] SafetyCond           : SafetyCondition.stop(Status.FAILURE->Status.INVALID)\n",
      "[DEBUG] SafetyCond           : SafetyCondition.tick()\n",
      "[DEBUG] SafetyCond           : SafetyCondition.stop(Status.INVALID->Status.FAILURE)\n",
      "[DEBUG] LearnAct             : LearnAct.tick()\n",
      "[DEBUG] LearnAct             : LearnAct.stop(Status.SUCCESS)\n",
      "[DEBUG] root                 : Selector.tick()\n",
      "[DEBUG] InitRoot             : Selector.tick()\n",
      "[DEBUG] SafetyNode           : Sequence.tick()\n",
      "[DEBUG] SafetyNode           : Sequence.tick() [!RUNNING->resetting child index]\n",
      "[DEBUG] SafetyCond           : SafetyCondition.stop(Status.FAILURE->Status.INVALID)\n",
      "[DEBUG] SafetyCond           : SafetyCondition.tick()\n",
      "[DEBUG] SafetyCond           : SafetyCondition.stop(Status.INVALID->Status.FAILURE)\n",
      "[DEBUG] LearnAct             : LearnAct.tick()\n",
      "[DEBUG] LearnAct             : LearnAct.stop(Status.SUCCESS)\n"
     ]
    },
    {
     "ename": "KeyError",
     "evalue": "'learnAction'",
     "output_type": "error",
     "traceback": [
      "\u001b[1;31m---------------------------------------------------------------------------\u001b[0m",
      "\u001b[1;31mKeyError\u001b[0m                                  Traceback (most recent call last)",
      "\u001b[1;32m<ipython-input-16-1d9caa016a0d>\u001b[0m in \u001b[0;36m<module>\u001b[1;34m\u001b[0m\n\u001b[0;32m      1\u001b[0m \u001b[0mpy_trees\u001b[0m\u001b[1;33m.\u001b[0m\u001b[0mlogging\u001b[0m\u001b[1;33m.\u001b[0m\u001b[0mlevel\u001b[0m \u001b[1;33m=\u001b[0m \u001b[0mpy_trees\u001b[0m\u001b[1;33m.\u001b[0m\u001b[0mlogging\u001b[0m\u001b[1;33m.\u001b[0m\u001b[0mLevel\u001b[0m\u001b[1;33m.\u001b[0m\u001b[0mDEBUG\u001b[0m\u001b[1;33m\u001b[0m\u001b[1;33m\u001b[0m\u001b[0m\n\u001b[1;32m----> 2\u001b[1;33m \u001b[0mtrain_GP_BT\u001b[0m\u001b[1;33m(\u001b[0m\u001b[0me\u001b[0m\u001b[1;33m,\u001b[0m \u001b[0magent\u001b[0m\u001b[1;33m)\u001b[0m\u001b[1;33m\u001b[0m\u001b[1;33m\u001b[0m\u001b[0m\n\u001b[0m",
      "\u001b[1;32m~\\Work\\Intern\\GuildLab\\local\\BT\\train.py\u001b[0m in \u001b[0;36mtrain_GP_BT\u001b[1;34m(e, agent, episodes, steps)\u001b[0m\n\u001b[0;32m     23\u001b[0m \u001b[1;33m\u001b[0m\u001b[0m\n\u001b[0;32m     24\u001b[0m                 \u001b[1;31m# learn single action\u001b[0m\u001b[1;33m\u001b[0m\u001b[1;33m\u001b[0m\u001b[1;33m\u001b[0m\u001b[0m\n\u001b[1;32m---> 25\u001b[1;33m                 \u001b[0maction_node\u001b[0m \u001b[1;33m=\u001b[0m \u001b[0mlearn_single_action\u001b[0m\u001b[1;33m(\u001b[0m\u001b[0me\u001b[0m\u001b[1;33m,\u001b[0m \u001b[0magent\u001b[0m\u001b[1;33m,\u001b[0m \u001b[0mstep\u001b[0m\u001b[1;33m)\u001b[0m\u001b[1;33m\u001b[0m\u001b[1;33m\u001b[0m\u001b[0m\n\u001b[0m\u001b[0;32m     26\u001b[0m                 \u001b[1;31m# switch to GP is no action is learned\u001b[0m\u001b[1;33m\u001b[0m\u001b[1;33m\u001b[0m\u001b[1;33m\u001b[0m\u001b[0m\n\u001b[0;32m     27\u001b[0m                 \u001b[1;32mif\u001b[0m \u001b[0mlen\u001b[0m\u001b[1;33m(\u001b[0m\u001b[0maction\u001b[0m\u001b[1;33m.\u001b[0m\u001b[0mchildren\u001b[0m\u001b[1;33m)\u001b[0m \u001b[1;33m==\u001b[0m \u001b[1;36m0\u001b[0m\u001b[1;33m:\u001b[0m\u001b[1;33m\u001b[0m\u001b[1;33m\u001b[0m\u001b[0m\n",
      "\u001b[1;32m~\\Work\\Intern\\GuildLab\\local\\BT\\train.py\u001b[0m in \u001b[0;36mlearn_single_action\u001b[1;34m(e, agent, current_step, samples)\u001b[0m\n\u001b[0;32m     59\u001b[0m \u001b[1;33m\u001b[0m\u001b[0m\n\u001b[0;32m     60\u001b[0m             \u001b[1;31m# simulate, calculate score in Monte-Carlo fashion\u001b[0m\u001b[1;33m\u001b[0m\u001b[1;33m\u001b[0m\u001b[1;33m\u001b[0m\u001b[0m\n\u001b[1;32m---> 61\u001b[1;33m             \u001b[0mmean_speed\u001b[0m \u001b[1;33m=\u001b[0m \u001b[0mplay_episode\u001b[0m\u001b[1;33m(\u001b[0m\u001b[0me_\u001b[0m\u001b[1;33m,\u001b[0m \u001b[0magent\u001b[0m\u001b[1;33m,\u001b[0m \u001b[0msteps\u001b[0m\u001b[1;33m=\u001b[0m\u001b[0mPLAY_EPISODE_STEPS\u001b[0m \u001b[1;33m-\u001b[0m \u001b[0mcurrent_step\u001b[0m\u001b[1;33m,\u001b[0m \u001b[0mreset\u001b[0m\u001b[1;33m=\u001b[0m\u001b[1;32mFalse\u001b[0m\u001b[1;33m,\u001b[0m \u001b[0minit_state\u001b[0m\u001b[1;33m=\u001b[0m\u001b[0mstate\u001b[0m\u001b[1;33m)\u001b[0m\u001b[1;33m\u001b[0m\u001b[1;33m\u001b[0m\u001b[0m\n\u001b[0m\u001b[0;32m     62\u001b[0m             \u001b[0mact_score\u001b[0m \u001b[1;33m+=\u001b[0m \u001b[0mmean_speed\u001b[0m\u001b[1;33m\u001b[0m\u001b[1;33m\u001b[0m\u001b[0m\n\u001b[0;32m     63\u001b[0m         \u001b[0mact_score\u001b[0m \u001b[1;33m/=\u001b[0m \u001b[0msamples\u001b[0m\u001b[1;33m\u001b[0m\u001b[1;33m\u001b[0m\u001b[0m\n",
      "\u001b[1;32m~\\Work\\Intern\\GuildLab\\local\\BT\\runner.py\u001b[0m in \u001b[0;36mplay_episode\u001b[1;34m(e, agent, steps, reset, init_state, debug, verbose, sleep_time, change_act_sleep_time)\u001b[0m\n\u001b[0;32m     35\u001b[0m         \u001b[1;31m# tick\u001b[0m\u001b[1;33m\u001b[0m\u001b[1;33m\u001b[0m\u001b[1;33m\u001b[0m\u001b[0m\n\u001b[0;32m     36\u001b[0m         \u001b[0maction\u001b[0m \u001b[1;33m=\u001b[0m \u001b[0magent\u001b[0m\u001b[1;33m.\u001b[0m\u001b[0mtick\u001b[0m\u001b[1;33m(\u001b[0m\u001b[0mstate\u001b[0m\u001b[1;33m[\u001b[0m\u001b[1;36m0\u001b[0m\u001b[1;33m]\u001b[0m\u001b[1;33m)\u001b[0m\u001b[1;33m\u001b[0m\u001b[1;33m\u001b[0m\u001b[0m\n\u001b[1;32m---> 37\u001b[1;33m         \u001b[0mact_idx\u001b[0m \u001b[1;33m=\u001b[0m \u001b[0mACT_TO_ACTIDX\u001b[0m\u001b[1;33m[\u001b[0m\u001b[0maction\u001b[0m\u001b[1;33m]\u001b[0m\u001b[1;33m\u001b[0m\u001b[1;33m\u001b[0m\u001b[0m\n\u001b[0m\u001b[0;32m     38\u001b[0m \u001b[1;33m\u001b[0m\u001b[0m\n\u001b[0;32m     39\u001b[0m         \u001b[1;31m# step\u001b[0m\u001b[1;33m\u001b[0m\u001b[1;33m\u001b[0m\u001b[1;33m\u001b[0m\u001b[0m\n",
      "\u001b[1;31mKeyError\u001b[0m: 'learnAction'"
     ]
    }
   ],
   "source": [
    "py_trees.logging.level = py_trees.logging.Level.DEBUG\n",
    "train_GP_BT(e, agent)"
   ]
  },
  {
   "cell_type": "code",
   "execution_count": null,
   "metadata": {},
   "outputs": [],
   "source": []
  }
 ],
 "metadata": {
  "kernelspec": {
   "display_name": "Python 3",
   "language": "python",
   "name": "python3"
  },
  "language_info": {
   "codemirror_mode": {
    "name": "ipython",
    "version": 3
   },
   "file_extension": ".py",
   "mimetype": "text/x-python",
   "name": "python",
   "nbconvert_exporter": "python",
   "pygments_lexer": "ipython3",
   "version": "3.7.6"
  }
 },
 "nbformat": 4,
 "nbformat_minor": 4
}

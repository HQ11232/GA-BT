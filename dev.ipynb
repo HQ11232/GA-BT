{
 "cells": [
  {
   "cell_type": "code",
   "execution_count": 1,
   "metadata": {},
   "outputs": [],
   "source": [
    "%load_ext autoreload\n",
    "%autoreload 2"
   ]
  },
  {
   "cell_type": "code",
   "execution_count": 2,
   "metadata": {},
   "outputs": [],
   "source": [
    "import py_trees\n",
    "import logging\n",
    "from deep_traffic.libtraffic import env\n",
    "from behavior_tree.agent import BasicBehaviorTreeAgent, GeneticProgrammingBehaviorTreeAgent\n",
    "from behavior_tree.condition_checker import BasicConditionChecker, GeneticProgrammingConditionChecker\n",
    "from behavior_tree.tree import BasicBehaviorTree, GeneticProgrammingBehaviorTree, ConditionSequenceNode, IntersectConditionSequenceNode\n",
    "from train import train_GP_BT\n",
    "from runner import play_episode, measure_performance\n",
    "from config import *"
   ]
  },
  {
   "cell_type": "code",
   "execution_count": 3,
   "metadata": {},
   "outputs": [],
   "source": [
    "logging.basicConfig(level=logging.INFO)"
   ]
  },
  {
   "cell_type": "markdown",
   "metadata": {},
   "source": [
    "##### Environment"
   ]
  },
  {
   "cell_type": "code",
   "execution_count": 4,
   "metadata": {},
   "outputs": [
    {
     "name": "stdout",
     "output_type": "stream",
     "text": [
      "(7, 5, 20)\n"
     ]
    }
   ],
   "source": [
    "e = env.DeepTraffic(lanes_side=LANES_SIDE, \n",
    "                    patches_ahead=PATCHES_AHEAD,\n",
    "                    patches_behind=PATCHES_BEHIND, \n",
    "                    history=HISTORY, \n",
    "                    obs=OBS)\n",
    "obs_shape = e.obs_shape\n",
    "print(obs_shape)"
   ]
  },
  {
   "cell_type": "code",
   "execution_count": 5,
   "metadata": {},
   "outputs": [
    {
     "name": "stdout",
     "output_type": "stream",
     "text": [
      "(7, 5, 20)\n"
     ]
    }
   ],
   "source": [
    "state = e.reset()\n",
    "print(state.shape)"
   ]
  },
  {
   "cell_type": "code",
   "execution_count": 6,
   "metadata": {},
   "outputs": [
    {
     "name": "stdout",
     "output_type": "stream",
     "text": [
      "[[1.     1.     1.     1.     1.    ]\n",
      " [1.     1.     1.     1.     1.    ]\n",
      " [1.     1.     1.     0.0325 1.    ]\n",
      " [1.     1.     1.     0.0325 1.    ]\n",
      " [0.016  1.     1.     0.0325 0.0325]\n",
      " [0.016  1.     1.     0.0325 0.0325]\n",
      " [0.016  1.     1.     1.     0.0325]\n",
      " [0.016  1.     0.0325 1.     0.0325]\n",
      " [1.     1.     0.0325 1.     1.    ]\n",
      " [1.     1.     0.0325 1.     1.    ]\n",
      " [1.     1.     0.0325 1.     1.    ]\n",
      " [0.008  1.     1.     1.     1.    ]\n",
      " [0.008  1.     1.     1.     1.    ]\n",
      " [0.008  1.     1.     1.     1.    ]\n",
      " [0.008  1.     1.     1.     1.    ]\n",
      " [1.     1.     0.0325 1.     1.    ]\n",
      " [1.     1.     0.0325 1.     1.    ]\n",
      " [1.     1.     0.0325 1.     1.    ]\n",
      " [1.     0.0325 0.0325 1.     1.    ]\n",
      " [0.0325 0.0325 1.     1.     1.    ]]\n"
     ]
    }
   ],
   "source": [
    "print(state[0].T)"
   ]
  },
  {
   "cell_type": "markdown",
   "metadata": {},
   "source": [
    "##### ConditionChecker"
   ]
  },
  {
   "cell_type": "code",
   "execution_count": 7,
   "metadata": {},
   "outputs": [],
   "source": [
    "condition_checker = GeneticProgrammingConditionChecker()\n",
    "condition_checker.update_state(state[0])"
   ]
  },
  {
   "cell_type": "code",
   "execution_count": 8,
   "metadata": {},
   "outputs": [
    {
     "name": "stdout",
     "output_type": "stream",
     "text": [
      "(5, 20)\n"
     ]
    }
   ],
   "source": [
    "print(condition_checker.state.shape)"
   ]
  },
  {
   "cell_type": "code",
   "execution_count": 9,
   "metadata": {},
   "outputs": [
    {
     "name": "stdout",
     "output_type": "stream",
     "text": [
      "[[1.     1.     1.     1.     1.    ]\n",
      " [1.     1.     1.     1.     1.    ]\n",
      " [1.     1.     1.     0.0325 1.    ]\n",
      " [1.     1.     1.     0.0325 1.    ]\n",
      " [0.016  1.     1.     0.0325 0.0325]\n",
      " [0.016  1.     1.     0.0325 0.0325]\n",
      " [0.016  1.     1.     1.     0.0325]\n",
      " [0.016  1.     0.0325 1.     0.0325]\n",
      " [1.     1.     0.0325 1.     1.    ]\n",
      " [1.     1.     0.0325 1.     1.    ]\n",
      " [1.     1.     0.0325 1.     1.    ]\n",
      " [0.008  1.     1.     1.     1.    ]\n",
      " [0.008  1.     1.     1.     1.    ]\n",
      " [0.008  1.     1.     1.     1.    ]\n",
      " [0.008  1.     1.     1.     1.    ]\n",
      " [1.     1.     0.0325 1.     1.    ]\n",
      " [1.     1.     0.0325 1.     1.    ]\n",
      " [1.     1.     0.0325 1.     1.    ]\n",
      " [1.     0.0325 0.0325 1.     1.    ]\n",
      " [0.0325 0.0325 1.     1.     1.    ]]\n"
     ]
    }
   ],
   "source": [
    "print(condition_checker.state.T)"
   ]
  },
  {
   "cell_type": "markdown",
   "metadata": {},
   "source": [
    "##### BTAgent"
   ]
  },
  {
   "cell_type": "code",
   "execution_count": 10,
   "metadata": {},
   "outputs": [],
   "source": [
    "agent = GeneticProgrammingBehaviorTreeAgent()"
   ]
  },
  {
   "cell_type": "code",
   "execution_count": 11,
   "metadata": {},
   "outputs": [
    {
     "name": "stdout",
     "output_type": "stream",
     "text": [
      "Load model from saves/GP-BT.dat\n"
     ]
    }
   ],
   "source": [
    "# load agent\n",
    "#agent.load()"
   ]
  },
  {
   "cell_type": "code",
   "execution_count": 12,
   "metadata": {
    "scrolled": true
   },
   "outputs": [
    {
     "name": "stdout",
     "output_type": "stream",
     "text": [
      "[o] root\n",
      "    [-] Behavior6\n",
      "        [-] Cond216\n",
      "            --> F0\n",
      "            --> F1\n",
      "            --> F2\n",
      "            --> F3\n",
      "            --> F4\n",
      "            --> F5\n",
      "            --> F6\n",
      "            --> F7\n",
      "            --> F8\n",
      "            --> F9\n",
      "            --> F10\n",
      "            --> F11\n",
      "            --> F12\n",
      "            --> F13\n",
      "            --> F14\n",
      "            --> F15\n",
      "            --> F16\n",
      "            --> F17\n",
      "            --> F24\n",
      "            --> F25\n",
      "            --> F26\n",
      "            --> F27\n",
      "            --> F28\n",
      "            --> F29\n",
      "            --> F30\n",
      "            --> F31\n",
      "            --> F32\n",
      "            --> F33\n",
      "            --> F34\n",
      "            --> F35\n",
      "            --> F36\n",
      "            --> F37\n",
      "            --> F38\n",
      "            --> F39\n",
      "            --> F42\n",
      "            --> F43\n",
      "            --> F44\n",
      "            --> F45\n",
      "            --> F46\n",
      "            --> T47\n",
      "            --> T48\n",
      "            --> T49\n",
      "            --> T50\n",
      "            --> F51\n",
      "            --> F52\n",
      "            --> F53\n",
      "            --> F54\n",
      "            --> T55\n",
      "            --> T56\n",
      "            --> T57\n",
      "            --> T58\n",
      "            --> F59\n",
      "            --> T62\n",
      "            --> T63\n",
      "            --> F66\n",
      "            --> F67\n",
      "            --> F68\n",
      "            --> F69\n",
      "            --> F70\n",
      "            --> F71\n",
      "            --> F72\n",
      "            --> F73\n",
      "            --> F74\n",
      "            --> F75\n",
      "            --> F76\n",
      "            --> F77\n",
      "            --> F78\n",
      "            --> F79\n",
      "            --> F80\n",
      "            --> F81\n",
      "            --> F82\n",
      "            --> F83\n",
      "            --> F88\n",
      "            --> F89\n",
      "            --> F90\n",
      "            --> F91\n",
      "            --> F92\n",
      "            --> F93\n",
      "            --> F94\n",
      "            --> F95\n",
      "            --> F96\n",
      "            --> F97\n",
      "            --> F98\n",
      "            --> F99\n",
      "        [o] Selector\n",
      "            --> goLeft\n",
      "            --> goRight\n",
      "    [-] Behavior5\n",
      "        [-] Cond187\n",
      "            --> F0\n",
      "            --> F1\n",
      "            --> F2\n",
      "            --> F3\n",
      "            --> F4\n",
      "            --> F5\n",
      "            --> F6\n",
      "            --> F7\n",
      "            --> F8\n",
      "            --> F9\n",
      "            --> F10\n",
      "            --> F11\n",
      "            --> F12\n",
      "            --> F13\n",
      "            --> F14\n",
      "            --> F19\n",
      "            --> F22\n",
      "            --> F23\n",
      "            --> F24\n",
      "            --> F25\n",
      "            --> F26\n",
      "            --> F27\n",
      "            --> F28\n",
      "            --> F29\n",
      "            --> F30\n",
      "            --> F31\n",
      "            --> F32\n",
      "            --> F33\n",
      "            --> F34\n",
      "            --> F35\n",
      "            --> F36\n",
      "            --> F37\n",
      "            --> F38\n",
      "            --> F39\n",
      "            --> F40\n",
      "            --> F41\n",
      "            --> F42\n",
      "            --> F43\n",
      "            --> F44\n",
      "            --> F49\n",
      "            --> F50\n",
      "            --> F51\n",
      "            --> F52\n",
      "            --> F53\n",
      "            --> F54\n",
      "            --> T55\n",
      "            --> T56\n",
      "            --> T57\n",
      "            --> T58\n",
      "            --> F59\n",
      "            --> F62\n",
      "            --> F63\n",
      "            --> F64\n",
      "            --> F65\n",
      "            --> F70\n",
      "            --> F71\n",
      "            --> F72\n",
      "            --> F73\n",
      "            --> F74\n",
      "            --> F75\n",
      "            --> F76\n",
      "            --> F77\n",
      "            --> F78\n",
      "            --> F79\n",
      "            --> F80\n",
      "            --> F81\n",
      "            --> F90\n",
      "            --> F91\n",
      "            --> F92\n",
      "            --> F93\n",
      "            --> F94\n",
      "            --> F95\n",
      "            --> F96\n",
      "            --> F97\n",
      "            --> F98\n",
      "            --> F99\n",
      "        [o] Selector\n",
      "            --> accelerate\n",
      "            --> goLeft\n",
      "    [-] Behavior4\n",
      "        [-] Cond44\n",
      "            --> F0\n",
      "            --> F1\n",
      "            --> F2\n",
      "            --> F3\n",
      "            --> F4\n",
      "            --> F5\n",
      "            --> F6\n",
      "            --> F7\n",
      "            --> F8\n",
      "            --> F9\n",
      "            --> F10\n",
      "            --> F11\n",
      "            --> F12\n",
      "            --> F13\n",
      "            --> F14\n",
      "            --> F15\n",
      "            --> F16\n",
      "            --> T17\n",
      "            --> T18\n",
      "            --> T19\n",
      "            --> F20\n",
      "            --> F21\n",
      "            --> F22\n",
      "            --> F23\n",
      "            --> F24\n",
      "            --> F25\n",
      "            --> F26\n",
      "            --> F27\n",
      "            --> F28\n",
      "            --> F29\n",
      "            --> T30\n",
      "            --> T31\n",
      "            --> T32\n",
      "            --> T33\n",
      "            --> F34\n",
      "            --> F35\n",
      "            --> F36\n",
      "            --> F37\n",
      "            --> F38\n",
      "            --> F39\n",
      "            --> F40\n",
      "            --> F41\n",
      "            --> F42\n",
      "            --> F43\n",
      "            --> F44\n",
      "            --> T45\n",
      "            --> T46\n",
      "            --> T47\n",
      "            --> T48\n",
      "            --> F49\n",
      "            --> F50\n",
      "            --> F51\n",
      "            --> F52\n",
      "            --> F53\n",
      "            --> F54\n",
      "            --> T55\n",
      "            --> T56\n",
      "            --> T57\n",
      "            --> T58\n",
      "            --> F59\n",
      "            --> F60\n",
      "            --> F61\n",
      "            --> F62\n",
      "            --> F63\n",
      "            --> T64\n",
      "            --> T65\n",
      "            --> T66\n",
      "            --> T67\n",
      "            --> F68\n",
      "            --> F69\n",
      "            --> F70\n",
      "            --> F71\n",
      "            --> F72\n",
      "            --> F73\n",
      "            --> F74\n",
      "            --> F75\n",
      "            --> F76\n",
      "            --> F77\n",
      "            --> F78\n",
      "            --> F79\n",
      "            --> F80\n",
      "            --> F81\n",
      "            --> F82\n",
      "            --> F83\n",
      "            --> F84\n",
      "            --> F85\n",
      "            --> F86\n",
      "            --> F87\n",
      "            --> F88\n",
      "            --> F89\n",
      "            --> F90\n",
      "            --> F91\n",
      "            --> F92\n",
      "            --> F93\n",
      "            --> F94\n",
      "            --> F95\n",
      "            --> F96\n",
      "            --> F97\n",
      "            --> F98\n",
      "            --> F99\n",
      "        [o] Selector\n",
      "            --> goRight\n",
      "            --> accelerate\n",
      "    [-] Behavior3\n",
      "        [-] Cond31\n",
      "            --> F0\n",
      "            --> F21\n",
      "            --> F22\n",
      "            --> F23\n",
      "            --> F29\n",
      "            --> F30\n",
      "            --> F31\n",
      "            --> F32\n",
      "            --> F33\n",
      "            --> F34\n",
      "            --> F35\n",
      "            --> F36\n",
      "            --> F37\n",
      "            --> F38\n",
      "            --> F39\n",
      "            --> F51\n",
      "            --> F52\n",
      "            --> F53\n",
      "            --> F54\n",
      "            --> T55\n",
      "            --> T56\n",
      "            --> T57\n",
      "            --> T58\n",
      "            --> F59\n",
      "            --> F80\n",
      "            --> F81\n",
      "            --> F82\n",
      "        [o] Selector\n",
      "            --> goLeft\n",
      "    [-] Behavior2\n",
      "        [-] Cond26\n",
      "            --> F0\n",
      "            --> F1\n",
      "            --> F2\n",
      "            --> F3\n",
      "            --> F4\n",
      "            --> F5\n",
      "            --> F6\n",
      "            --> T7\n",
      "            --> T8\n",
      "            --> T9\n",
      "            --> T10\n",
      "            --> F11\n",
      "            --> F12\n",
      "            --> F13\n",
      "            --> F14\n",
      "            --> F15\n",
      "            --> F16\n",
      "            --> F17\n",
      "            --> F18\n",
      "            --> F19\n",
      "            --> T20\n",
      "            --> T21\n",
      "            --> T22\n",
      "            --> T23\n",
      "            --> F24\n",
      "            --> F25\n",
      "            --> F26\n",
      "            --> F27\n",
      "            --> F28\n",
      "            --> F29\n",
      "            --> F30\n",
      "            --> F31\n",
      "            --> F32\n",
      "            --> F33\n",
      "            --> F34\n",
      "            --> T35\n",
      "            --> T36\n",
      "            --> T37\n",
      "            --> T38\n",
      "            --> F39\n",
      "            --> F40\n",
      "            --> F41\n",
      "            --> F42\n",
      "            --> F43\n",
      "            --> F44\n",
      "            --> F45\n",
      "            --> F46\n",
      "            --> F47\n",
      "            --> F48\n",
      "            --> F49\n",
      "            --> F50\n",
      "            --> F51\n",
      "            --> F52\n",
      "            --> F53\n",
      "            --> F54\n",
      "            --> T55\n",
      "            --> T56\n",
      "            --> T57\n",
      "            --> T58\n",
      "            --> F59\n",
      "            --> F60\n",
      "            --> F61\n",
      "            --> F62\n",
      "            --> F63\n",
      "            --> F64\n",
      "            --> F65\n",
      "            --> F66\n",
      "            --> F67\n",
      "            --> F68\n",
      "            --> F69\n",
      "            --> F70\n",
      "            --> F71\n",
      "            --> F72\n",
      "            --> F73\n",
      "            --> F74\n",
      "            --> F75\n",
      "            --> F76\n",
      "            --> F77\n",
      "            --> F78\n",
      "            --> F79\n",
      "            --> F80\n",
      "            --> F81\n",
      "            --> F82\n",
      "            --> F83\n",
      "            --> F84\n",
      "            --> F85\n",
      "            --> F86\n",
      "            --> F87\n",
      "            --> F88\n",
      "            --> F89\n",
      "            --> F90\n",
      "            --> F91\n",
      "            --> F92\n",
      "            --> F93\n",
      "            --> F94\n",
      "            --> F95\n",
      "            --> F96\n",
      "            --> F97\n",
      "            --> F98\n",
      "            --> F99\n",
      "        [o] Selector\n",
      "            --> accelerate\n",
      "            --> goRight\n",
      "    [-] Behavior1\n",
      "        [-] Cond17\n",
      "            --> F0\n",
      "            --> F20\n",
      "            --> F51\n",
      "            --> F52\n",
      "            --> F53\n",
      "            --> F54\n",
      "            --> T55\n",
      "            --> T56\n",
      "            --> T57\n",
      "            --> T58\n",
      "            --> F59\n",
      "            --> F66\n",
      "            --> F67\n",
      "            --> F68\n",
      "            --> F69\n",
      "            --> F70\n",
      "            --> F71\n",
      "            --> F72\n",
      "            --> F73\n",
      "            --> F74\n",
      "            --> F75\n",
      "            --> F76\n",
      "            --> F77\n",
      "            --> F78\n",
      "            --> F79\n",
      "            --> F85\n",
      "            --> F86\n",
      "            --> F87\n",
      "            --> F88\n",
      "            --> F89\n",
      "            --> F94\n",
      "            --> F95\n",
      "            --> F96\n",
      "        [o] Selector\n",
      "            --> goRight\n",
      "    [-] Behavior0\n",
      "        [-] Cond0\n",
      "            --> F50\n",
      "            --> F51\n",
      "            --> F52\n",
      "            --> F53\n",
      "            --> F54\n",
      "            --> T55\n",
      "            --> T56\n",
      "            --> T57\n",
      "            --> T58\n",
      "            --> F59\n",
      "        [o] Selector\n",
      "            --> accelerate\n",
      "            [-] SafetyCond\n",
      "    [-] InitRoot\n",
      "        [o] SafetyNode\n",
      "            --> SafetyCond\n",
      "            --> SafetyAct\n",
      "        --> LearnAct\n",
      "\n"
     ]
    }
   ],
   "source": [
    "# display tree\n",
    "agent.display_tree()"
   ]
  },
  {
   "cell_type": "code",
   "execution_count": 13,
   "metadata": {},
   "outputs": [
    {
     "name": "stdout",
     "output_type": "stream",
     "text": [
      "Blackboard Client\n",
      "  Client Data\n",
      "    name              : root\n",
      "    namespace         : /\n",
      "    unique_identifier : 30c9b1b6-06d4-4dbb-a1f0-be371d321ef1\n",
      "    read              : {'/action'}\n",
      "    write             : {'/speed', '/enable_learning', '/cell_condition', '/available_actions'}\n",
      "    exclusive         : set()\n",
      "  Variables\n",
      "    /action            : -\n",
      "    /speed             : 65.0\n",
      "    /available_actions : {'accelerate': False, 'decelerate': True, 'goLeft': False, 'goRight': True}\n",
      "    /enable_learning   : -\n",
      "    /cell_condition    : {'0': False, '1': False, '2': False, '3': False, '4': True, '5': True, '6': True, '7': True, '8': False, '9': False, '10': False, '11': True, '12': True, '13': True, '14': True, '15': False, '16': False, '17': False, '18': False, '19': True, '20': False, '21': False, '22': False, '23': False, '24': False, '25': False, '26': False, '27': False, '28': False, '29': False, '30': False, '31': False, '32': False, '33': False, '34': False, '35': False, '36': False, '37': False, '38': True, '39': True, '40': False, '41': False, '42': False, '43': False, '44': False, '45': False, '46': False, '47': True, '48': True, '49': True, '50': True, '51': False, '52': False, '53': False, '54': False, '55': True, '56': True, '57': True, '58': True, '59': False, '60': False, '61': False, '62': True, '63': True, '64': True, '65': True, '66': False, '67': False, '68': False, '69': False, '70': False, '71': False, '72': False, '73': False, '74': False, '75': False, '76': False, '77': False, '78': False, '79': False, '80': False, '81': False, '82': False, '83': False, '84': True, '85': True, '86': True, '87': True, '88': False, '89': False, '90': False, '91': False, '92': False, '93': False, '94': False, '95': False, '96': False, '97': False, '98': False, '99': False}\n",
      "\n"
     ]
    }
   ],
   "source": [
    "# tick\n",
    "agent.update_condition_checker(state[0])\n",
    "agent.update_blackboard()\n",
    "print(agent.blackboard)"
   ]
  },
  {
   "cell_type": "markdown",
   "metadata": {},
   "source": [
    "##### Training"
   ]
  },
  {
   "cell_type": "code",
   "execution_count": 14,
   "metadata": {
    "scrolled": true
   },
   "outputs": [
    {
     "name": "stdout",
     "output_type": "stream",
     "text": [
      "Wall time: 0 ns\n"
     ]
    }
   ],
   "source": [
    "%%time\n",
    "#py_trees.logging.level = py_trees.logging.Level.DEBUG\n",
    "train_GP_BT(e, agent, episodes=TRAIN_EPISODES, steps=PLAY_EPISODE_STEPS)"
   ]
  },
  {
   "cell_type": "code",
   "execution_count": 15,
   "metadata": {
    "scrolled": true
   },
   "outputs": [],
   "source": [
    "# display tree\n",
    "agent.display_tree()"
   ]
  },
  {
   "cell_type": "markdown",
   "metadata": {},
   "source": [
    "##### Play Episode"
   ]
  },
  {
   "cell_type": "code",
   "execution_count": 16,
   "metadata": {
    "scrolled": true
   },
   "outputs": [
    {
     "data": {
      "text/plain": [
       "73.755"
      ]
     },
     "execution_count": 16,
     "metadata": {},
     "output_type": "execute_result"
    }
   ],
   "source": [
    "#py_trees.logging.level = py_trees.logging.Level.DEBUG\n",
    "agent.blackboard.enable_learning = False\n",
    "play_episode(e, agent, verbose=False, reset=True)"
   ]
  },
  {
   "cell_type": "markdown",
   "metadata": {},
   "source": [
    "##### Multiple Episodes"
   ]
  },
  {
   "cell_type": "code",
   "execution_count": 17,
   "metadata": {
    "collapsed": true,
    "jupyter": {
     "outputs_hidden": true
    }
   },
   "outputs": [
    {
     "name": "stdout",
     "output_type": "stream",
     "text": [
      "Wall time: 46.4 s\n"
     ]
    },
    {
     "data": {
      "text/plain": [
       "{'mean_speed': [67.155,\n",
       "  81.08,\n",
       "  70.99,\n",
       "  66.23,\n",
       "  79.315,\n",
       "  79.87,\n",
       "  72.0,\n",
       "  65.33,\n",
       "  70.25,\n",
       "  84.905,\n",
       "  67.86,\n",
       "  64.205,\n",
       "  66.38,\n",
       "  69.075,\n",
       "  66.235,\n",
       "  73.06,\n",
       "  81.375,\n",
       "  66.02,\n",
       "  71.87,\n",
       "  67.805,\n",
       "  66.23,\n",
       "  75.57,\n",
       "  64.935,\n",
       "  66.69,\n",
       "  81.145,\n",
       "  67.195,\n",
       "  79.365,\n",
       "  65.425,\n",
       "  64.665,\n",
       "  66.715,\n",
       "  68.585,\n",
       "  83.015,\n",
       "  64.58,\n",
       "  74.765,\n",
       "  75.135,\n",
       "  76.035,\n",
       "  60.68,\n",
       "  70.005,\n",
       "  65.24,\n",
       "  74.805,\n",
       "  68.37,\n",
       "  65.93,\n",
       "  80.81,\n",
       "  62.445,\n",
       "  71.525,\n",
       "  78.82,\n",
       "  71.0,\n",
       "  67.695,\n",
       "  73.63,\n",
       "  65.34,\n",
       "  65.0,\n",
       "  74.92,\n",
       "  65.33,\n",
       "  64.205,\n",
       "  86.665,\n",
       "  72.82,\n",
       "  64.31,\n",
       "  65.555,\n",
       "  65.025,\n",
       "  76.715,\n",
       "  67.41,\n",
       "  83.925,\n",
       "  70.785,\n",
       "  73.285,\n",
       "  68.305,\n",
       "  65.525,\n",
       "  70.765,\n",
       "  87.94,\n",
       "  70.395,\n",
       "  62.135,\n",
       "  62.455,\n",
       "  81.495,\n",
       "  67.36,\n",
       "  63.435,\n",
       "  68.39,\n",
       "  68.78,\n",
       "  70.405,\n",
       "  92.365,\n",
       "  72.25,\n",
       "  70.585,\n",
       "  68.855,\n",
       "  68.33,\n",
       "  66.355,\n",
       "  66.62,\n",
       "  94.135,\n",
       "  70.27,\n",
       "  76.16,\n",
       "  65.295,\n",
       "  72.285,\n",
       "  84.85,\n",
       "  65.0,\n",
       "  62.225,\n",
       "  71.07,\n",
       "  72.24,\n",
       "  72.465,\n",
       "  65.545,\n",
       "  65.13,\n",
       "  78.815,\n",
       "  66.99,\n",
       "  90.005],\n",
       " 'average_mean_speed': 71.28529999999999,\n",
       " 'std_mean_speed': 7.171786347208065}"
      ]
     },
     "execution_count": 17,
     "metadata": {},
     "output_type": "execute_result"
    },
    {
     "data": {
      "image/png": "[encoded data removed]",
      "text/plain": [
       "<Figure size 432x288 with 1 Axes>"
      ]
     },
     "metadata": {
      "needs_background": "light"
     },
     "output_type": "display_data"
    }
   ],
   "source": [
    "%%time\n",
    "measure_performance(e, agent, episodes=100)"
   ]
  }
 ],
 "metadata": {
  "kernelspec": {
   "display_name": "Python 3",
   "language": "python",
   "name": "python3"
  },
  "language_info": {
   "codemirror_mode": {
    "name": "ipython",
    "version": 3
   },
   "file_extension": ".py",
   "mimetype": "text/x-python",
   "name": "python",
   "nbconvert_exporter": "python",
   "pygments_lexer": "ipython3",
   "version": "3.7.6"
  }
 },
 "nbformat": 4,
 "nbformat_minor": 4
}

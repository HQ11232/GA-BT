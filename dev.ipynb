{
 "cells": [
  {
   "cell_type": "code",
   "execution_count": 1,
   "metadata": {},
   "outputs": [],
   "source": [
    "%load_ext autoreload\n",
    "%autoreload 2"
   ]
  },
  {
   "cell_type": "code",
   "execution_count": 2,
   "metadata": {},
   "outputs": [],
   "source": [
    "import py_trees\n",
    "import logging\n",
    "from deep_traffic.libtraffic import env\n",
    "from behavior_tree.agent import BasicBehaviorTreeAgent, GeneticProgrammingBehaviorTreeAgent\n",
    "from behavior_tree.condition_checker import BasicConditionChecker, GeneticProgrammingConditionChecker\n",
    "from behavior_tree.tree import BasicBehaviorTree, GeneticProgrammingBehaviorTree, ConditionSequenceNode, IntersectConditionSequenceNode\n",
    "from train import train_GP_BT\n",
    "from runner import play_episode\n",
    "from config import *"
   ]
  },
  {
   "cell_type": "code",
   "execution_count": 3,
   "metadata": {},
   "outputs": [],
   "source": [
    "logging.basicConfig(level=logging.DEBUG)"
   ]
  },
  {
   "cell_type": "markdown",
   "metadata": {},
   "source": [
    "##### Environment"
   ]
  },
  {
   "cell_type": "code",
   "execution_count": 4,
   "metadata": {},
   "outputs": [
    {
     "name": "stdout",
     "output_type": "stream",
     "text": [
      "(7, 5, 20)\n"
     ]
    }
   ],
   "source": [
    "e = env.DeepTraffic(lanes_side=LANES_SIDE, \n",
    "                    patches_ahead=PATCHES_AHEAD,\n",
    "                    patches_behind=PATCHES_BEHIND, \n",
    "                    history=HISTORY, \n",
    "                    obs=OBS)\n",
    "obs_shape = e.obs_shape\n",
    "print(obs_shape)"
   ]
  },
  {
   "cell_type": "code",
   "execution_count": 5,
   "metadata": {},
   "outputs": [
    {
     "name": "stdout",
     "output_type": "stream",
     "text": [
      "(7, 5, 20)\n"
     ]
    }
   ],
   "source": [
    "state = e.reset()\n",
    "print(state.shape)"
   ]
  },
  {
   "cell_type": "code",
   "execution_count": 6,
   "metadata": {},
   "outputs": [
    {
     "name": "stdout",
     "output_type": "stream",
     "text": [
      "[[1.     1.     1.     1.     1.    ]\n",
      " [1.     1.     1.     0.0325 1.    ]\n",
      " [1.     1.     1.     0.0325 1.    ]\n",
      " [1.     1.     1.     0.0325 0.0325]\n",
      " [1.     1.     1.     0.0325 0.0325]\n",
      " [1.     1.     1.     1.     0.0325]\n",
      " [1.     1.     0.0325 1.     0.0325]\n",
      " [1.     1.     0.0325 1.     1.    ]\n",
      " [1.     1.     0.0325 1.     1.    ]\n",
      " [1.     1.     0.0325 1.     1.    ]\n",
      " [1.     0.0325 1.     1.     1.    ]\n",
      " [1.     0.0325 1.     1.     1.    ]\n",
      " [1.     0.0325 1.     1.     1.    ]\n",
      " [1.     0.0325 1.     1.     1.    ]\n",
      " [1.     1.     1.     1.     1.    ]\n",
      " [1.     1.     0.04   1.     1.    ]\n",
      " [1.     1.     0.04   1.     1.    ]\n",
      " [1.     1.     0.04   1.     1.    ]\n",
      " [1.     1.     0.04   1.     0.0325]\n",
      " [1.     1.     1.     1.     0.0325]]\n"
     ]
    }
   ],
   "source": [
    "print(state[0].T)"
   ]
  },
  {
   "cell_type": "markdown",
   "metadata": {},
   "source": [
    "##### ConditionChecker"
   ]
  },
  {
   "cell_type": "code",
   "execution_count": 7,
   "metadata": {},
   "outputs": [],
   "source": [
    "condition_checker = GeneticProgrammingConditionChecker()\n",
    "condition_checker.update_state(state[0])"
   ]
  },
  {
   "cell_type": "code",
   "execution_count": 8,
   "metadata": {},
   "outputs": [
    {
     "name": "stdout",
     "output_type": "stream",
     "text": [
      "(5, 20)\n"
     ]
    }
   ],
   "source": [
    "print(condition_checker.state.shape)"
   ]
  },
  {
   "cell_type": "code",
   "execution_count": 9,
   "metadata": {},
   "outputs": [
    {
     "name": "stdout",
     "output_type": "stream",
     "text": [
      "[[1.     1.     1.     1.     1.    ]\n",
      " [1.     1.     1.     0.0325 1.    ]\n",
      " [1.     1.     1.     0.0325 1.    ]\n",
      " [1.     1.     1.     0.0325 0.0325]\n",
      " [1.     1.     1.     0.0325 0.0325]\n",
      " [1.     1.     1.     1.     0.0325]\n",
      " [1.     1.     0.0325 1.     0.0325]\n",
      " [1.     1.     0.0325 1.     1.    ]\n",
      " [1.     1.     0.0325 1.     1.    ]\n",
      " [1.     1.     0.0325 1.     1.    ]\n",
      " [1.     0.0325 1.     1.     1.    ]\n",
      " [1.     0.0325 1.     1.     1.    ]\n",
      " [1.     0.0325 1.     1.     1.    ]\n",
      " [1.     0.0325 1.     1.     1.    ]\n",
      " [1.     1.     1.     1.     1.    ]\n",
      " [1.     1.     0.04   1.     1.    ]\n",
      " [1.     1.     0.04   1.     1.    ]\n",
      " [1.     1.     0.04   1.     1.    ]\n",
      " [1.     1.     0.04   1.     0.0325]\n",
      " [1.     1.     1.     1.     0.0325]]\n"
     ]
    }
   ],
   "source": [
    "print(condition_checker.state.T)"
   ]
  },
  {
   "cell_type": "markdown",
   "metadata": {},
   "source": [
    "##### BTAgent"
   ]
  },
  {
   "cell_type": "code",
   "execution_count": 10,
   "metadata": {},
   "outputs": [],
   "source": [
    "agent = GeneticProgrammingBehaviorTreeAgent()"
   ]
  },
  {
   "cell_type": "code",
   "execution_count": 11,
   "metadata": {},
   "outputs": [
    {
     "name": "stdout",
     "output_type": "stream",
     "text": [
      "[o] root\n",
      "    [-] InitRoot\n",
      "        [o] SafetyNode\n",
      "            --> SafetyCond\n",
      "            --> SafetyAct\n",
      "        --> LearnAct\n",
      "\n"
     ]
    }
   ],
   "source": [
    "# display tree\n",
    "agent.display_tree()"
   ]
  },
  {
   "cell_type": "code",
   "execution_count": 12,
   "metadata": {},
   "outputs": [
    {
     "name": "stdout",
     "output_type": "stream",
     "text": [
      "Blackboard Client\n",
      "  Client Data\n",
      "    name              : root\n",
      "    namespace         : /\n",
      "    unique_identifier : e95f649a-5b00-49a3-a7e2-14733b19b36d\n",
      "    read              : {'/action'}\n",
      "    write             : {'/speed', '/enable_learning', '/cell_condition'}\n",
      "    exclusive         : set()\n",
      "  Variables\n",
      "    /action          : -\n",
      "    /speed           : 80.0\n",
      "    /cell_condition  : {'0': False, '1': False, '2': False, '3': False, '4': False, '5': False, '6': False, '7': False, '8': False, '9': False, '10': False, '11': False, '12': False, '13': False, '14': False, '15': False, '16': False, '17': False, '18': False, '19': False, '20': False, '21': False, '22': False, '23': False, '24': False, '25': False, '26': False, '27': False, '28': False, '29': False, '30': True, '31': True, '32': True, '33': True, '34': False, '35': False, '36': False, '37': False, '38': False, '39': False, '40': False, '41': False, '42': False, '43': False, '44': False, '45': False, '46': True, '47': True, '48': True, '49': True, '50': False, '51': False, '52': False, '53': False, '54': False, '55': True, '56': True, '57': True, '58': True, '59': False, '60': False, '61': True, '62': True, '63': True, '64': True, '65': False, '66': False, '67': False, '68': False, '69': False, '70': False, '71': False, '72': False, '73': False, '74': False, '75': False, '76': False, '77': False, '78': False, '79': False, '80': False, '81': False, '82': False, '83': True, '84': True, '85': True, '86': True, '87': False, '88': False, '89': False, '90': False, '91': False, '92': False, '93': False, '94': False, '95': False, '96': False, '97': False, '98': True, '99': True}\n",
      "    /enable_learning : -\n",
      "\n"
     ]
    }
   ],
   "source": [
    "# tick\n",
    "agent.update_condition_checker(state[0])\n",
    "agent.update_blackboard()\n",
    "print(agent.blackboard)"
   ]
  },
  {
   "cell_type": "markdown",
   "metadata": {},
   "source": [
    "##### Training"
   ]
  },
  {
   "cell_type": "code",
   "execution_count": null,
   "metadata": {},
   "outputs": [
    {
     "name": "stderr",
     "output_type": "stream",
     "text": [
      "INFO:root:Episode 1/10\n",
      "INFO:root:step 1/200: Learn Action triggered\n",
      "C:\\Users\\shiro\\Anaconda3\\envs\\GA-BT\\lib\\site-packages\\numpy\\core\\fromnumeric.py:3335: RuntimeWarning: Mean of empty slice.\n",
      "  out=out, **kwargs)\n",
      "C:\\Users\\shiro\\Anaconda3\\envs\\GA-BT\\lib\\site-packages\\numpy\\core\\_methods.py:161: RuntimeWarning: invalid value encountered in double_scalars\n",
      "  ret = ret.dtype.type(ret / rcount)\n",
      "INFO:root:step 1/200: new action sets, appended as a new Behavior\n",
      "INFO:root:step 2/200: Learn Action triggered\n",
      "INFO:root:step 2/200: duplicated action sets, intersect conditions with an existed Behavior\n",
      "INFO:root:step 3/200: Learn Action triggered\n",
      "INFO:root:step 3/200: duplicated action sets, intersect conditions with an existed Behavior\n",
      "INFO:root:step 4/200: Learn Action triggered\n",
      "INFO:root:step 4/200: duplicated action sets, intersect conditions with an existed Behavior\n",
      "INFO:root:step 6/200: Learn Action triggered\n",
      "INFO:root:step 6/200: duplicated action sets, intersect conditions with an existed Behavior\n",
      "INFO:root:step 7/200: Learn Action triggered\n",
      "INFO:root:step 7/200: duplicated action sets, intersect conditions with an existed Behavior\n",
      "INFO:root:step 8/200: Learn Action triggered\n",
      "INFO:root:step 8/200: duplicated action sets, intersect conditions with an existed Behavior\n",
      "INFO:root:step 9/200: Learn Action triggered\n",
      "INFO:root:step 9/200: duplicated action sets, intersect conditions with an existed Behavior\n",
      "INFO:root:step 10/200: Learn Action triggered\n",
      "INFO:root:step 10/200: duplicated action sets, intersect conditions with an existed Behavior\n",
      "INFO:root:step 11/200: Learn Action triggered\n",
      "INFO:root:step 11/200: duplicated action sets, intersect conditions with an existed Behavior\n",
      "INFO:root:step 12/200: Learn Action triggered\n",
      "INFO:root:step 12/200: duplicated action sets, intersect conditions with an existed Behavior\n",
      "INFO:root:step 13/200: Learn Action triggered\n",
      "INFO:root:step 13/200: new action sets, appended as a new Behavior\n",
      "INFO:root:step 15/200: Learn Action triggered\n",
      "INFO:root:step 15/200: duplicated action sets, intersect conditions with an existed Behavior\n",
      "INFO:root:step 16/200: Learn Action triggered\n",
      "INFO:root:step 16/200: duplicated action sets, intersect conditions with an existed Behavior\n",
      "INFO:root:step 17/200: Learn Action triggered\n",
      "INFO:root:step 17/200: duplicated action sets, intersect conditions with an existed Behavior\n",
      "INFO:root:step 18/200: Learn Action triggered\n",
      "INFO:root:step 18/200: duplicated action sets, intersect conditions with an existed Behavior\n",
      "INFO:root:step 19/200: Learn Action triggered\n",
      "INFO:root:step 19/200: duplicated action sets, intersect conditions with an existed Behavior\n",
      "INFO:root:step 20/200: Learn Action triggered\n",
      "INFO:root:step 20/200: duplicated action sets, intersect conditions with an existed Behavior\n",
      "INFO:root:step 21/200: Learn Action triggered\n",
      "INFO:root:step 21/200: duplicated action sets, intersect conditions with an existed Behavior\n",
      "INFO:root:step 22/200: Learn Action triggered\n",
      "INFO:root:step 22/200: duplicated action sets, intersect conditions with an existed Behavior\n",
      "INFO:root:step 23/200: Learn Action triggered\n",
      "INFO:root:step 23/200: duplicated action sets, intersect conditions with an existed Behavior\n",
      "INFO:root:step 24/200: Learn Action triggered\n",
      "INFO:root:step 24/200: duplicated action sets, intersect conditions with an existed Behavior\n",
      "INFO:root:step 25/200: Learn Action triggered\n",
      "INFO:root:step 25/200: duplicated action sets, intersect conditions with an existed Behavior\n",
      "INFO:root:step 26/200: Learn Action triggered\n",
      "INFO:root:step 26/200: new action sets, appended as a new Behavior\n",
      "INFO:root:step 27/200: Learn Action triggered\n",
      "INFO:root:step 27/200: no single action found, resort to idle action\n",
      "INFO:root:step 28/200: Learn Action triggered\n",
      "INFO:root:step 28/200: duplicated action sets, intersect conditions with an existed Behavior\n",
      "INFO:root:step 29/200: Learn Action triggered\n",
      "INFO:root:step 29/200: no single action found, resort to idle action\n",
      "INFO:root:step 30/200: Learn Action triggered\n",
      "INFO:root:step 30/200: duplicated action sets, intersect conditions with an existed Behavior\n",
      "INFO:root:step 31/200: Learn Action triggered\n",
      "INFO:root:step 31/200: no single action found, resort to idle action\n",
      "INFO:root:step 32/200: Learn Action triggered\n",
      "INFO:root:step 32/200: duplicated action sets, intersect conditions with an existed Behavior\n",
      "INFO:root:step 33/200: Learn Action triggered\n",
      "INFO:root:step 33/200: new action sets, appended as a new Behavior\n",
      "INFO:root:step 34/200: Learn Action triggered\n",
      "INFO:root:step 34/200: new action sets, appended as a new Behavior\n",
      "INFO:root:step 35/200: Learn Action triggered\n",
      "INFO:root:step 35/200: new action sets, appended as a new Behavior\n",
      "INFO:root:step 36/200: Learn Action triggered\n",
      "INFO:root:step 36/200: no single action found, resort to idle action\n",
      "INFO:root:step 37/200: Learn Action triggered\n",
      "INFO:root:step 37/200: new action sets, appended as a new Behavior\n",
      "INFO:root:step 38/200: Learn Action triggered\n",
      "INFO:root:step 38/200: no single action found, resort to idle action\n",
      "INFO:root:step 39/200: Learn Action triggered\n",
      "INFO:root:step 39/200: no single action found, resort to idle action\n",
      "INFO:root:step 40/200: Learn Action triggered\n",
      "INFO:root:step 40/200: no single action found, resort to idle action\n",
      "INFO:root:step 41/200: Learn Action triggered\n",
      "INFO:root:step 41/200: no single action found, resort to idle action\n",
      "INFO:root:step 42/200: Learn Action triggered\n",
      "INFO:root:step 42/200: no single action found, resort to idle action\n",
      "INFO:root:step 50/200: Learn Action triggered\n",
      "INFO:root:step 50/200: no single action found, resort to idle action\n",
      "INFO:root:step 51/200: Learn Action triggered\n",
      "INFO:root:step 51/200: new action sets, appended as a new Behavior\n",
      "INFO:root:step 52/200: Learn Action triggered\n",
      "INFO:root:step 52/200: new action sets, appended as a new Behavior\n",
      "INFO:root:step 53/200: Learn Action triggered\n",
      "INFO:root:step 53/200: new action sets, appended as a new Behavior\n",
      "INFO:root:step 54/200: Learn Action triggered\n",
      "INFO:root:step 54/200: new action sets, appended as a new Behavior\n",
      "INFO:root:step 60/200: Learn Action triggered\n",
      "INFO:root:step 60/200: new action sets, appended as a new Behavior\n",
      "INFO:root:step 61/200: Learn Action triggered\n",
      "INFO:root:step 61/200: new action sets, appended as a new Behavior\n",
      "INFO:root:step 62/200: Learn Action triggered\n",
      "INFO:root:step 62/200: no single action found, resort to idle action\n",
      "INFO:root:step 63/200: Learn Action triggered\n",
      "INFO:root:step 63/200: no single action found, resort to idle action\n",
      "INFO:root:step 64/200: Learn Action triggered\n",
      "INFO:root:step 64/200: new action sets, appended as a new Behavior\n",
      "INFO:root:step 65/200: Learn Action triggered\n",
      "INFO:root:step 65/200: duplicated action sets, intersect conditions with an existed Behavior\n",
      "INFO:root:step 66/200: Learn Action triggered\n",
      "INFO:root:step 66/200: new action sets, appended as a new Behavior\n",
      "INFO:root:step 72/200: Learn Action triggered\n",
      "INFO:root:step 72/200: duplicated action sets, intersect conditions with an existed Behavior\n",
      "INFO:root:step 73/200: Learn Action triggered\n",
      "INFO:root:step 73/200: no single action found, resort to idle action\n",
      "INFO:root:step 74/200: Learn Action triggered\n",
      "INFO:root:step 74/200: duplicated action sets, intersect conditions with an existed Behavior\n",
      "INFO:root:step 75/200: Learn Action triggered\n",
      "INFO:root:step 75/200: duplicated action sets, intersect conditions with an existed Behavior\n",
      "INFO:root:step 76/200: Learn Action triggered\n",
      "INFO:root:step 76/200: new action sets, appended as a new Behavior\n",
      "INFO:root:step 77/200: Learn Action triggered\n",
      "INFO:root:step 77/200: duplicated action sets, intersect conditions with an existed Behavior\n",
      "INFO:root:step 80/200: Learn Action triggered\n",
      "INFO:root:step 80/200: no single action found, resort to idle action\n",
      "INFO:root:step 81/200: Learn Action triggered\n",
      "INFO:root:step 81/200: duplicated action sets, intersect conditions with an existed Behavior\n",
      "INFO:root:step 82/200: Learn Action triggered\n",
      "INFO:root:step 82/200: duplicated action sets, intersect conditions with an existed Behavior\n",
      "INFO:root:step 83/200: Learn Action triggered\n",
      "INFO:root:step 83/200: new action sets, appended as a new Behavior\n",
      "INFO:root:step 84/200: Learn Action triggered\n",
      "INFO:root:step 84/200: no single action found, resort to idle action\n",
      "INFO:root:step 85/200: Learn Action triggered\n",
      "INFO:root:step 85/200: new action sets, appended as a new Behavior\n",
      "INFO:root:step 86/200: Learn Action triggered\n",
      "INFO:root:step 86/200: duplicated action sets, intersect conditions with an existed Behavior\n",
      "INFO:root:step 87/200: Learn Action triggered\n",
      "INFO:root:step 87/200: new action sets, appended as a new Behavior\n",
      "INFO:root:step 88/200: Learn Action triggered\n",
      "INFO:root:step 88/200: duplicated action sets, intersect conditions with an existed Behavior\n",
      "INFO:root:step 89/200: Learn Action triggered\n",
      "INFO:root:step 89/200: new action sets, appended as a new Behavior\n",
      "INFO:root:step 90/200: Learn Action triggered\n",
      "INFO:root:step 90/200: duplicated action sets, intersect conditions with an existed Behavior\n",
      "INFO:root:step 91/200: Learn Action triggered\n",
      "INFO:root:step 91/200: duplicated action sets, intersect conditions with an existed Behavior\n",
      "INFO:root:step 92/200: Learn Action triggered\n",
      "INFO:root:step 92/200: duplicated action sets, intersect conditions with an existed Behavior\n",
      "INFO:root:step 93/200: Learn Action triggered\n",
      "INFO:root:step 93/200: no single action found, resort to idle action\n",
      "INFO:root:step 94/200: Learn Action triggered\n",
      "INFO:root:step 94/200: duplicated action sets, intersect conditions with an existed Behavior\n",
      "INFO:root:step 95/200: Learn Action triggered\n",
      "INFO:root:step 95/200: duplicated action sets, intersect conditions with an existed Behavior\n",
      "INFO:root:step 103/200: Learn Action triggered\n",
      "INFO:root:step 103/200: no single action found, resort to idle action\n",
      "INFO:root:step 122/200: Learn Action triggered\n",
      "INFO:root:step 122/200: no single action found, resort to idle action\n",
      "INFO:root:step 124/200: Learn Action triggered\n",
      "INFO:root:step 124/200: new action sets, appended as a new Behavior\n",
      "INFO:root:step 125/200: Learn Action triggered\n",
      "INFO:root:step 125/200: no single action found, resort to idle action\n",
      "INFO:root:step 126/200: Learn Action triggered\n",
      "INFO:root:step 126/200: duplicated action sets, intersect conditions with an existed Behavior\n",
      "INFO:root:step 127/200: Learn Action triggered\n",
      "INFO:root:step 127/200: no single action found, resort to idle action\n",
      "INFO:root:step 128/200: Learn Action triggered\n",
      "INFO:root:step 128/200: duplicated action sets, intersect conditions with an existed Behavior\n",
      "INFO:root:step 129/200: Learn Action triggered\n",
      "INFO:root:step 129/200: duplicated action sets, intersect conditions with an existed Behavior\n",
      "INFO:root:step 130/200: Learn Action triggered\n",
      "INFO:root:step 130/200: no single action found, resort to idle action\n",
      "INFO:root:step 131/200: Learn Action triggered\n",
      "INFO:root:step 131/200: no single action found, resort to idle action\n",
      "INFO:root:step 132/200: Learn Action triggered\n",
      "INFO:root:step 132/200: duplicated action sets, intersect conditions with an existed Behavior\n",
      "INFO:root:step 134/200: Learn Action triggered\n",
      "INFO:root:step 134/200: no single action found, resort to idle action\n",
      "INFO:root:step 135/200: Learn Action triggered\n",
      "INFO:root:step 135/200: duplicated action sets, intersect conditions with an existed Behavior\n",
      "INFO:root:step 145/200: Learn Action triggered\n",
      "INFO:root:step 145/200: no single action found, resort to idle action\n",
      "INFO:root:step 146/200: Learn Action triggered\n",
      "INFO:root:step 146/200: no single action found, resort to idle action\n",
      "INFO:root:step 147/200: Learn Action triggered\n",
      "INFO:root:step 147/200: no single action found, resort to idle action\n",
      "INFO:root:step 148/200: Learn Action triggered\n",
      "INFO:root:step 148/200: no single action found, resort to idle action\n",
      "INFO:root:step 149/200: Learn Action triggered\n",
      "INFO:root:step 149/200: duplicated action sets, intersect conditions with an existed Behavior\n",
      "INFO:root:step 173/200: Learn Action triggered\n",
      "INFO:root:step 173/200: no single action found, resort to idle action\n",
      "INFO:root:step 174/200: Learn Action triggered\n",
      "INFO:root:step 174/200: no single action found, resort to idle action\n",
      "INFO:root:step 175/200: Learn Action triggered\n",
      "INFO:root:step 175/200: duplicated action sets, intersect conditions with an existed Behavior\n",
      "INFO:root:Episode 2/10\n",
      "INFO:root:step 1/200: Learn Action triggered\n",
      "INFO:root:step 1/200: no single action found, resort to idle action\n",
      "INFO:root:step 2/200: Learn Action triggered\n",
      "INFO:root:step 2/200: no single action found, resort to idle action\n",
      "INFO:root:step 3/200: Learn Action triggered\n",
      "INFO:root:step 3/200: no single action found, resort to idle action\n",
      "INFO:root:step 4/200: Learn Action triggered\n",
      "INFO:root:step 4/200: no single action found, resort to idle action\n",
      "INFO:root:step 5/200: Learn Action triggered\n",
      "INFO:root:step 5/200: duplicated action sets, intersect conditions with an existed Behavior\n",
      "INFO:root:step 17/200: Learn Action triggered\n",
      "INFO:root:step 17/200: duplicated action sets, intersect conditions with an existed Behavior\n",
      "INFO:root:step 19/200: Learn Action triggered\n",
      "INFO:root:step 19/200: duplicated action sets, intersect conditions with an existed Behavior\n",
      "INFO:root:step 20/200: Learn Action triggered\n",
      "INFO:root:step 20/200: duplicated action sets, intersect conditions with an existed Behavior\n",
      "INFO:root:step 22/200: Learn Action triggered\n",
      "INFO:root:step 22/200: duplicated action sets, intersect conditions with an existed Behavior\n",
      "INFO:root:step 28/200: Learn Action triggered\n",
      "INFO:root:step 28/200: duplicated action sets, intersect conditions with an existed Behavior\n",
      "INFO:root:step 29/200: Learn Action triggered\n",
      "INFO:root:step 29/200: duplicated action sets, intersect conditions with an existed Behavior\n",
      "INFO:root:step 31/200: Learn Action triggered\n",
      "INFO:root:step 31/200: duplicated action sets, intersect conditions with an existed Behavior\n",
      "INFO:root:step 33/200: Learn Action triggered\n",
      "INFO:root:step 33/200: duplicated action sets, intersect conditions with an existed Behavior\n",
      "INFO:root:step 34/200: Learn Action triggered\n",
      "INFO:root:step 34/200: no single action found, resort to idle action\n",
      "INFO:root:step 35/200: Learn Action triggered\n",
      "INFO:root:step 35/200: no single action found, resort to idle action\n",
      "INFO:root:step 36/200: Learn Action triggered\n",
      "INFO:root:step 36/200: duplicated action sets, intersect conditions with an existed Behavior\n",
      "INFO:root:step 38/200: Learn Action triggered\n",
      "INFO:root:step 38/200: no single action found, resort to idle action\n",
      "INFO:root:step 39/200: Learn Action triggered\n",
      "INFO:root:step 39/200: no single action found, resort to idle action\n",
      "INFO:root:step 40/200: Learn Action triggered\n",
      "INFO:root:step 40/200: duplicated action sets, intersect conditions with an existed Behavior\n",
      "INFO:root:step 60/200: Learn Action triggered\n",
      "INFO:root:step 60/200: duplicated action sets, intersect conditions with an existed Behavior\n",
      "INFO:root:step 61/200: Learn Action triggered\n",
      "INFO:root:step 61/200: duplicated action sets, intersect conditions with an existed Behavior\n",
      "INFO:root:step 64/200: Learn Action triggered\n",
      "INFO:root:step 64/200: duplicated action sets, intersect conditions with an existed Behavior\n",
      "INFO:root:step 67/200: Learn Action triggered\n",
      "INFO:root:step 67/200: no single action found, resort to idle action\n",
      "INFO:root:step 68/200: Learn Action triggered\n",
      "INFO:root:step 68/200: duplicated action sets, intersect conditions with an existed Behavior\n",
      "INFO:root:step 70/200: Learn Action triggered\n",
      "INFO:root:step 70/200: duplicated action sets, intersect conditions with an existed Behavior\n",
      "INFO:root:step 72/200: Learn Action triggered\n",
      "INFO:root:step 72/200: duplicated action sets, intersect conditions with an existed Behavior\n",
      "INFO:root:step 75/200: Learn Action triggered\n",
      "INFO:root:step 75/200: no single action found, resort to idle action\n",
      "INFO:root:step 76/200: Learn Action triggered\n",
      "INFO:root:step 76/200: duplicated action sets, intersect conditions with an existed Behavior\n",
      "INFO:root:step 77/200: Learn Action triggered\n",
      "INFO:root:step 77/200: duplicated action sets, intersect conditions with an existed Behavior\n",
      "INFO:root:step 80/200: Learn Action triggered\n",
      "INFO:root:step 80/200: duplicated action sets, intersect conditions with an existed Behavior\n",
      "INFO:root:step 81/200: Learn Action triggered\n",
      "INFO:root:step 81/200: duplicated action sets, intersect conditions with an existed Behavior\n",
      "INFO:root:step 97/200: Learn Action triggered\n",
      "INFO:root:step 97/200: duplicated action sets, intersect conditions with an existed Behavior\n",
      "INFO:root:step 99/200: Learn Action triggered\n",
      "INFO:root:step 99/200: duplicated action sets, intersect conditions with an existed Behavior\n",
      "INFO:root:step 101/200: Learn Action triggered\n"
     ]
    }
   ],
   "source": [
    "%%time\n",
    "#py_trees.logging.level = py_trees.logging.Level.DEBUG\n",
    "train_GP_BT(e, agent, episodes=10, steps=200)"
   ]
  },
  {
   "cell_type": "code",
   "execution_count": null,
   "metadata": {},
   "outputs": [],
   "source": [
    "# display tree\n",
    "agent.display_tree()"
   ]
  },
  {
   "cell_type": "markdown",
   "metadata": {},
   "source": [
    "##### Play Episode"
   ]
  },
  {
   "cell_type": "code",
   "execution_count": null,
   "metadata": {},
   "outputs": [],
   "source": [
    "agent.blackboard.enable_learning = False\n",
    "play_episode(e, agent, verbose=True, reset=True)"
   ]
  },
  {
   "cell_type": "code",
   "execution_count": null,
   "metadata": {},
   "outputs": [],
   "source": []
  }
 ],
 "metadata": {
  "kernelspec": {
   "display_name": "Python 3",
   "language": "python",
   "name": "python3"
  },
  "language_info": {
   "codemirror_mode": {
    "name": "ipython",
    "version": 3
   },
   "file_extension": ".py",
   "mimetype": "text/x-python",
   "name": "python",
   "nbconvert_exporter": "python",
   "pygments_lexer": "ipython3",
   "version": "3.7.6"
  }
 },
 "nbformat": 4,
 "nbformat_minor": 4
}

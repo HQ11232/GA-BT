{
 "cells": [
  {
   "cell_type": "code",
   "execution_count": 1,
   "metadata": {},
   "outputs": [],
   "source": [
    "import py_trees"
   ]
  },
  {
   "cell_type": "code",
   "execution_count": 2,
   "metadata": {},
   "outputs": [
    {
     "name": "stdout",
     "output_type": "stream",
     "text": [
      "[o] Selector\n",
      "    --> High Priority\n",
      "    --> Med Priority\n",
      "    --> Low Priority\n",
      "\n"
     ]
    }
   ],
   "source": [
    "root = py_trees.composites.Selector(\"Selector\") \n",
    "high = py_trees.behaviours.Success(name=\"High Priority\") \n",
    "med = py_trees.behaviours.Success(name=\"Med Priority\")\n",
    "low = py_trees.behaviours.Success(name=\"Low Priority\") \n",
    "root.add_children([high, med, low])\n",
    "\n",
    "behaviour_tree = py_trees.trees.BehaviourTree(root=root)\n",
    "\n",
    "print(py_trees.display.unicode_tree(root=root))"
   ]
  },
  {
   "cell_type": "code",
   "execution_count": 3,
   "metadata": {},
   "outputs": [],
   "source": [
    "behaviour_tree.setup(timeout=15)"
   ]
  },
  {
   "cell_type": "code",
   "execution_count": 4,
   "metadata": {},
   "outputs": [],
   "source": [
    "def print_tree(tree):\n",
    "    print(py_trees.display.unicode_tree(root=tree.root, show_status=True)) "
   ]
  },
  {
   "cell_type": "code",
   "execution_count": 6,
   "metadata": {
    "collapsed": true,
    "jupyter": {
     "outputs_hidden": true
    }
   },
   "outputs": [
    {
     "name": "stdout",
     "output_type": "stream",
     "text": [
      "[o] Selector [o]\n",
      "    --> High Priority [o] -- success\n",
      "    --> Med Priority [-]\n",
      "    --> Low Priority [-]\n",
      "\n",
      "[o] Selector [o]\n",
      "    --> High Priority [o] -- success\n",
      "    --> Med Priority [-]\n",
      "    --> Low Priority [-]\n",
      "\n",
      "[o] Selector [o]\n",
      "    --> High Priority [o] -- success\n",
      "    --> Med Priority [-]\n",
      "    --> Low Priority [-]\n",
      "\n",
      "[o] Selector [o]\n",
      "    --> High Priority [o] -- success\n",
      "    --> Med Priority [-]\n",
      "    --> Low Priority [-]\n",
      "\n",
      "[o] Selector [o]\n",
      "    --> High Priority [o] -- success\n",
      "    --> Med Priority [-]\n",
      "    --> Low Priority [-]\n",
      "\n",
      "[o] Selector [o]\n",
      "    --> High Priority [o] -- success\n",
      "    --> Med Priority [-]\n",
      "    --> Low Priority [-]\n",
      "\n",
      "[o] Selector [o]\n",
      "    --> High Priority [o] -- success\n",
      "    --> Med Priority [-]\n",
      "    --> Low Priority [-]\n",
      "\n",
      "[o] Selector [o]\n",
      "    --> High Priority [o] -- success\n",
      "    --> Med Priority [-]\n",
      "    --> Low Priority [-]\n",
      "\n",
      "[o] Selector [o]\n",
      "    --> High Priority [o] -- success\n",
      "    --> Med Priority [-]\n",
      "    --> Low Priority [-]\n",
      "\n",
      "[o] Selector [o]\n",
      "    --> High Priority [o] -- success\n",
      "    --> Med Priority [-]\n",
      "    --> Low Priority [-]\n",
      "\n",
      "[o] Selector [o]\n",
      "    --> High Priority [o] -- success\n",
      "    --> Med Priority [-]\n",
      "    --> Low Priority [-]\n",
      "\n",
      "[o] Selector [o]\n",
      "    --> High Priority [o] -- success\n",
      "    --> Med Priority [-]\n",
      "    --> Low Priority [-]\n",
      "\n",
      "[o] Selector [o]\n",
      "    --> High Priority [o] -- success\n",
      "    --> Med Priority [-]\n",
      "    --> Low Priority [-]\n",
      "\n",
      "[o] Selector [o]\n",
      "    --> High Priority [o] -- success\n",
      "    --> Med Priority [-]\n",
      "    --> Low Priority [-]\n",
      "\n",
      "[o] Selector [o]\n",
      "    --> High Priority [o] -- success\n",
      "    --> Med Priority [-]\n",
      "    --> Low Priority [-]\n",
      "\n",
      "[o] Selector [o]\n",
      "    --> High Priority [o] -- success\n",
      "    --> Med Priority [-]\n",
      "    --> Low Priority [-]\n",
      "\n",
      "[o] Selector [o]\n",
      "    --> High Priority [o] -- success\n",
      "    --> Med Priority [-]\n",
      "    --> Low Priority [-]\n",
      "\n",
      "[o] Selector [o]\n",
      "    --> High Priority [o] -- success\n",
      "    --> Med Priority [-]\n",
      "    --> Low Priority [-]\n",
      "\n",
      "[o] Selector [o]\n",
      "    --> High Priority [o] -- success\n",
      "    --> Med Priority [-]\n",
      "    --> Low Priority [-]\n",
      "\n",
      "[o] Selector [o]\n",
      "    --> High Priority [o] -- success\n",
      "    --> Med Priority [-]\n",
      "    --> Low Priority [-]\n",
      "\n",
      "[o] Selector [o]\n",
      "    --> High Priority [o] -- success\n",
      "    --> Med Priority [-]\n",
      "    --> Low Priority [-]\n",
      "\n",
      "[o] Selector [o]\n",
      "    --> High Priority [o] -- success\n",
      "    --> Med Priority [-]\n",
      "    --> Low Priority [-]\n",
      "\n"
     ]
    }
   ],
   "source": [
    "try:\n",
    "    behaviour_tree.tick_tock(\n",
    "        period_ms=500, \n",
    "        number_of_iterations=py_trees.trees.CONTINUOUS_TICK_TOCK, \n",
    "        pre_tick_handler=None, \n",
    "        post_tick_handler=print_tree)\n",
    "except KeyboardInterrupt:\n",
    "    behaviour_tree.interrupt()"
   ]
  },
  {
   "cell_type": "code",
   "execution_count": 8,
   "metadata": {},
   "outputs": [],
   "source": [
    "import functools"
   ]
  },
  {
   "cell_type": "code",
   "execution_count": 9,
   "metadata": {},
   "outputs": [],
   "source": [
    "def post_tick_handler(snapshot_visitor, behaviour_tree): \n",
    "    print( \n",
    "        py_trees.display.unicode_tree( \n",
    "            behaviour_tree.root, \n",
    "            visited=snapshot_visitor.visited, \n",
    "            previously_visited=snapshot_visitor.visited \n",
    "        ) \n",
    "    )\n",
    "    \n",
    "root = py_trees.composites.Sequence(\"Sequence\") \n",
    "for action in [\"Action 1\", \"Action 2\", \"Action 3\"]: \n",
    "    b = py_trees.behaviours.Count( \n",
    "        name=action, \n",
    "        fail_until=0, \n",
    "        running_until=1, \n",
    "        success_until=10) \n",
    "    root.add_child(b) \n",
    "behaviour_tree = py_trees.trees.BehaviourTree(root) \n",
    "snapshot_visitor = py_trees.visitors.SnapshotVisitor() \n",
    "behaviour_tree.add_post_tick_handler( \n",
    "    functools.partial(post_tick_handler, \n",
    "                      snapshot_visitor)) \n",
    "behaviour_tree.visitors.append(snapshot_visitor)"
   ]
  },
  {
   "cell_type": "code",
   "execution_count": null,
   "metadata": {},
   "outputs": [],
   "source": []
  }
 ],
 "metadata": {
  "kernelspec": {
   "display_name": "Python 3",
   "language": "python",
   "name": "python3"
  },
  "language_info": {
   "codemirror_mode": {
    "name": "ipython",
    "version": 3
   },
   "file_extension": ".py",
   "mimetype": "text/x-python",
   "name": "python",
   "nbconvert_exporter": "python",
   "pygments_lexer": "ipython3",
   "version": "3.7.6"
  }
 },
 "nbformat": 4,
 "nbformat_minor": 4
}

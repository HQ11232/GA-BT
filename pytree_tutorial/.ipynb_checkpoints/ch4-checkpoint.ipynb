{
 "cells": [
  {
   "cell_type": "code",
   "execution_count": 1,
   "metadata": {},
   "outputs": [],
   "source": [
    "import py_trees.decorators\n",
    "import py_trees.display "
   ]
  },
  {
   "cell_type": "code",
   "execution_count": null,
   "metadata": {},
   "outputs": [],
   "source": [
    "root = py_trees.composites.Sequence(name=\"Life\")\n",
    "timeout = py_trees.decorators.Timeout(\n",
    "    name=\"Timeout\",\n",
    "    child=py_trees.behaviours.Success(name=\"Have a Beer!\")\n",
    ")\n",
    "failure_is_success = py_trees.decorators.Inverter(\n",
    "    name=\"Inverter\",\n",
    "    child=py_trees.behaviours.Success(name=\"Busy?\")\n",
    ") "
   ]
  }
 ],
 "metadata": {
  "kernelspec": {
   "display_name": "Python 3",
   "language": "python",
   "name": "python3"
  },
  "language_info": {
   "codemirror_mode": {
    "name": "ipython",
    "version": 3
   },
   "file_extension": ".py",
   "mimetype": "text/x-python",
   "name": "python",
   "nbconvert_exporter": "python",
   "pygments_lexer": "ipython3",
   "version": "3.7.6"
  }
 },
 "nbformat": 4,
 "nbformat_minor": 4
}

{
 "cells": [
  {
   "cell_type": "code",
   "execution_count": 1,
   "metadata": {},
   "outputs": [],
   "source": [
    "import py_trees.decorators\n",
    "import py_trees.display "
   ]
  },
  {
   "cell_type": "code",
   "execution_count": 2,
   "metadata": {},
   "outputs": [
    {
     "name": "stdout",
     "output_type": "stream",
     "text": [
      "Writing C:\\Users\\shiro\\Work\\Intern\\Guildlab\\local\\GA-BT\\pytree_tutorial\\life.dot\n",
      "Writing C:\\Users\\shiro\\Work\\Intern\\Guildlab\\local\\GA-BT\\pytree_tutorial\\life.png\n",
      "Writing C:\\Users\\shiro\\Work\\Intern\\Guildlab\\local\\GA-BT\\pytree_tutorial\\life.svg\n"
     ]
    },
    {
     "data": {
      "text/plain": [
       "{'dot': 'C:\\\\Users\\\\shiro\\\\Work\\\\Intern\\\\Guildlab\\\\local\\\\GA-BT\\\\pytree_tutorial\\\\life.dot',\n",
       " 'png': 'C:\\\\Users\\\\shiro\\\\Work\\\\Intern\\\\Guildlab\\\\local\\\\GA-BT\\\\pytree_tutorial\\\\life.png',\n",
       " 'svg': 'C:\\\\Users\\\\shiro\\\\Work\\\\Intern\\\\Guildlab\\\\local\\\\GA-BT\\\\pytree_tutorial\\\\life.svg'}"
      ]
     },
     "execution_count": 2,
     "metadata": {},
     "output_type": "execute_result"
    }
   ],
   "source": [
    "root = py_trees.composites.Sequence(name=\"Life\")\n",
    "timeout = py_trees.decorators.Timeout(\n",
    "    name=\"Timeout\",\n",
    "    child=py_trees.behaviours.Success(name=\"Have a Beer!\")\n",
    ")\n",
    "failure_is_success = py_trees.decorators.Inverter(\n",
    "    name=\"Inverter\",\n",
    "    child=py_trees.behaviours.Success(name=\"Busy?\")\n",
    ")\n",
    "root.add_children([failure_is_success, timeout])\n",
    "\n",
    "py_trees.display.render_dot_tree(root)"
   ]
  },
  {
   "cell_type": "code",
   "execution_count": null,
   "metadata": {},
   "outputs": [],
   "source": []
  }
 ],
 "metadata": {
  "kernelspec": {
   "display_name": "Python 3",
   "language": "python",
   "name": "python3"
  },
  "language_info": {
   "codemirror_mode": {
    "name": "ipython",
    "version": 3
   },
   "file_extension": ".py",
   "mimetype": "text/x-python",
   "name": "python",
   "nbconvert_exporter": "python",
   "pygments_lexer": "ipython3",
   "version": "3.7.6"
  }
 },
 "nbformat": 4,
 "nbformat_minor": 4
}

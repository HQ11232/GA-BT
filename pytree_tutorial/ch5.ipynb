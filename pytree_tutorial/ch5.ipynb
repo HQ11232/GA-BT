{
 "cells": [
  {
   "cell_type": "code",
   "execution_count": 1,
   "metadata": {},
   "outputs": [],
   "source": [
    "import py_trees"
   ]
  },
  {
   "cell_type": "code",
   "execution_count": 2,
   "metadata": {},
   "outputs": [
    {
     "name": "stdout",
     "output_type": "stream",
     "text": [
      "Blackboard Client\n",
      "  Client Data\n",
      "    name              : Provided\n",
      "    namespace         : /\n",
      "    unique_identifier : 571b9f03-95f0-4db5-8c18-9961bc50e0a9\n",
      "    read              : set()\n",
      "    write             : set()\n",
      "    exclusive         : set()\n",
      "  Variables\n",
      "\n",
      "Blackboard Client\n",
      "  Client Data\n",
      "    name              : 4a84...\n",
      "    namespace         : /\n",
      "    unique_identifier : 4a849e43-8ff8-4299-9da0-71b969aa693c\n",
      "    read              : set()\n",
      "    write             : set()\n",
      "    exclusive         : set()\n",
      "  Variables\n",
      "\n"
     ]
    }
   ],
   "source": [
    "provided = py_trees.blackboard.Client(name=\"Provided\") \n",
    "print(provided) \n",
    "generated = py_trees.blackboard.Client() \n",
    "print(generated)"
   ]
  },
  {
   "cell_type": "code",
   "execution_count": 4,
   "metadata": {},
   "outputs": [
    {
     "name": "stdout",
     "output_type": "stream",
     "text": [
      "Blackboard Client\n",
      "  Client Data\n",
      "    name              : Client\n",
      "    namespace         : /\n",
      "    unique_identifier : 9fa4a06d-4d80-405d-adb3-5109baa6dbf3\n",
      "    read              : {'/bar'}\n",
      "    write             : {'/foo'}\n",
      "    exclusive         : set()\n",
      "  Variables\n",
      "    /foo : foo\n",
      "    /bar : -\n",
      "\n"
     ]
    }
   ],
   "source": [
    "blackboard = py_trees.blackboard.Client(name=\"Client\") \n",
    "blackboard.register_key(key=\"foo\", access=py_trees.common.Access.WRITE) \n",
    "blackboard.register_key(key=\"bar\", access=py_trees.common.Access.READ) \n",
    "blackboard.foo = \"foo\" \n",
    "print(blackboard)"
   ]
  },
  {
   "cell_type": "code",
   "execution_count": 5,
   "metadata": {},
   "outputs": [],
   "source": [
    "blackboard = py_trees.blackboard.Client(name=\"Global\") \n",
    "parameters = py_trees.blackboard.Client(name=\"Parameters\", namespace=\"parameters\")"
   ]
  },
  {
   "cell_type": "code",
   "execution_count": 6,
   "metadata": {},
   "outputs": [
    {
     "name": "stdout",
     "output_type": "stream",
     "text": [
      "Blackboard Client\n",
      "  Client Data\n",
      "    name              : Global\n",
      "    namespace         : /\n",
      "    unique_identifier : 8155ca6a-d37c-449a-b4de-81ce1f17dccf\n",
      "    read              : set()\n",
      "    write             : {'/bar', '/parameters/default_speed', '/foo'}\n",
      "    exclusive         : set()\n",
      "  Variables\n",
      "    /foo                      : foo\n",
      "    /bar                      : bar\n",
      "    /parameters/default_speed : 20.0\n",
      "\n",
      "Blackboard Client\n",
      "  Client Data\n",
      "    name              : Parameters\n",
      "    namespace         : /parameters\n",
      "    unique_identifier : f10892a1-a572-41c9-a868-6aea8fcc84e4\n",
      "    read              : set()\n",
      "    write             : {'/parameters/aggressive_speed'}\n",
      "    exclusive         : set()\n",
      "  Variables\n",
      "    /parameters/aggressive_speed : 60.0\n",
      "\n"
     ]
    }
   ],
   "source": [
    "blackboard.register_key(key=\"foo\", access=py_trees.common.Access.WRITE) \n",
    "blackboard.register_key(key=\"/bar\", access=py_trees.common.Access.WRITE) \n",
    "blackboard.register_key(key=\"/parameters/default_speed\", access=py_trees.common.Access.WRITE) \n",
    "parameters.register_key(key=\"aggressive_speed\", access=py_trees.common.Access.WRITE)\n",
    "\n",
    "blackboard.foo = \"foo\" \n",
    "blackboard.bar = \"bar\" \n",
    "blackboard.parameters.default_speed = 20.0 \n",
    "parameters.aggressive_speed = 60.0\n",
    "\n",
    "print(blackboard)\n",
    "print(parameters)"
   ]
  },
  {
   "cell_type": "code",
   "execution_count": 8,
   "metadata": {},
   "outputs": [
    {
     "name": "stdout",
     "output_type": "stream",
     "text": [
      "Blackboard Client\n",
      "  Client Data\n",
      "    name              : Reader\n",
      "    namespace         : /\n",
      "    unique_identifier : d9ec65a9-91a6-4211-a216-9e7e8fa6c343\n",
      "    read              : {'/foo'}\n",
      "    write             : set()\n",
      "    exclusive         : set()\n",
      "  Variables\n",
      "    /foo : bar\n",
      "\n",
      "Foo: bar\n"
     ]
    }
   ],
   "source": [
    "def check_foo(): \n",
    "    blackboard = py_trees.blackboard.Client(name=\"Reader\") \n",
    "    blackboard.register_key(key=\"foo\", access=py_trees.common.Access.READ)\n",
    "    print(blackboard)\n",
    "    print(\"Foo: {}\".format(blackboard.foo))\n",
    "    \n",
    "blackboard = py_trees.blackboard.Client(name=\"Writer\") \n",
    "blackboard.register_key(key=\"foo\", access=py_trees.common.Access.WRITE) \n",
    "blackboard.foo = \"bar\" \n",
    "check_foo()"
   ]
  },
  {
   "cell_type": "code",
   "execution_count": 9,
   "metadata": {},
   "outputs": [],
   "source": [
    "class Nested(object): \n",
    "    def __init__(self): \n",
    "        self.foo = None \n",
    "        self.bar = None\n",
    "        \n",
    "    def __str__(self): \n",
    "        return str(self.__dict__)"
   ]
  },
  {
   "cell_type": "code",
   "execution_count": 10,
   "metadata": {},
   "outputs": [
    {
     "name": "stdout",
     "output_type": "stream",
     "text": [
      "Blackboard Client\n",
      "  Client Data\n",
      "    name              : Writer\n",
      "    namespace         : /\n",
      "    unique_identifier : e0d8f37c-906c-4d62-85ac-a8faeabdaa5c\n",
      "    read              : set()\n",
      "    write             : {'/nested'}\n",
      "    exclusive         : set()\n",
      "  Variables\n",
      "    /nested : {'foo': 'I am foo', 'bar': 'I am bar'}\n",
      "\n",
      "Blackboard Client\n",
      "  Client Data\n",
      "    name              : Reader\n",
      "    namespace         : /\n",
      "    unique_identifier : fd37f997-ff2a-472f-a14c-b7bfe6569251\n",
      "    read              : {'/nested'}\n",
      "    write             : set()\n",
      "    exclusive         : set()\n",
      "  Variables\n",
      "    /nested : {'foo': 'I am foo', 'bar': 'I am bar'}\n",
      "\n"
     ]
    }
   ],
   "source": [
    "writer = py_trees.blackboard.Client(name=\"Writer\")\n",
    "writer.register_key(key=\"nested\", access=py_trees.common.Access.WRITE)\n",
    "reader = py_trees.blackboard.Client(name=\"Reader\")\n",
    "reader.register_key(key=\"nested\", access=py_trees.common.Access.READ)\n",
    "\n",
    "writer.nested = Nested()\n",
    "writer.nested.foo = \"I am foo\"\n",
    "writer.nested.bar = \"I am bar\"\n",
    "\n",
    "foo = reader.nested.foo\n",
    "print(writer) \n",
    "print(reader)"
   ]
  },
  {
   "cell_type": "code",
   "execution_count": 12,
   "metadata": {},
   "outputs": [
    {
     "name": "stdout",
     "output_type": "stream",
     "text": [
      "Blackboard Activity Stream\n",
      "    /foo : WRITE         | Writer | → bar\n",
      "    /foo : WRITE         | Writer | → foobar\n",
      "    /foo : READ          | Reader | ← foobar\n"
     ]
    }
   ],
   "source": [
    "py_trees.blackboard.Blackboard.enable_activity_stream(maximum_size=100)\n",
    "reader = py_trees.blackboard.Client(name=\"Reader\")\n",
    "reader.register_key(key=\"foo\", access=py_trees.common.Access.READ) \n",
    "writer = py_trees.blackboard.Client(name=\"Writer\") \n",
    "writer.register_key(key=\"foo\", access=py_trees.common.Access.WRITE) \n",
    "writer.foo = \"bar\" \n",
    "writer.foo = \"foobar\" \n",
    "unused_result = reader.foo\n",
    "print(py_trees.display.unicode_blackboard_activity_stream()) \n",
    "py_trees.blackboard.Blackboard.activity_stream.clear()"
   ]
  },
  {
   "cell_type": "code",
   "execution_count": 14,
   "metadata": {},
   "outputs": [
    {
     "name": "stdout",
     "output_type": "stream",
     "text": [
      "Blackboard Data\n",
      "    /bar                        : bar\n",
      "    /dude                       : bob\n",
      "    /dudette                    : -\n",
      "    /foo                        : foo\n",
      "    /key                        : -\n",
      "    /nested                     : {'foo': 'I am foo', 'bar': 'I am bar'}\n",
      "    /parameters/aggressive_speed: 60.0\n",
      "    /parameters/default_speed   : 20.0\n",
      "\n",
      "Blackboard Data\n",
      "  Filter: '{'foo'}'\n",
      "\n",
      "Blackboard Data\n",
      "  Filter: 'dud*'\n",
      "    /dude   : bob\n",
      "    /dudette: -\n",
      "\n",
      "Blackboard Data\n",
      "  Filter: {UUID('24940c55-d44f-4260-8a1e-401ef1bcb6c2')}\n",
      "    /key: -\n",
      "\n",
      "Blackboard Clients\n",
      "    /bar                         : Client (r), Global (w), Writer (w), Writer (w)\n",
      "    /dude                        : Writer (w), Writer (w)\n",
      "    /dudette                     : Writer (w), Writer (w)\n",
      "    /foo                         : Global (w), Writer (w), Reader (r), Writer (w), Reader (r), Client (w), Reader (r), Writer (w), Writer (w), Writer (w), Writer (w), Reader (r)\n",
      "    /key                         : Reader (r), Reader (r)\n",
      "    /nested                      : Writer (w), Reader (r)\n",
      "    /parameters/aggressive_speed : Parameters (w)\n",
      "    /parameters/default_speed    : Global (w)\n",
      "\n"
     ]
    }
   ],
   "source": [
    "writer = py_trees.blackboard.Client(name=\"Writer\") \n",
    "for key in {\"foo\", \"bar\", \"dude\", \"dudette\"}: \n",
    "    writer.register_key(key=key, access=py_trees.common.Access.WRITE)\n",
    "    \n",
    "reader = py_trees.blackboard.Client(name=\"Reader\") \n",
    "for key in {\"foo\", \"bar\"}: \n",
    "    reader.register_key(key=\"key\", access=py_trees.common.Access.READ)\n",
    "\n",
    "writer.foo = \"foo\" \n",
    "writer.bar = \"bar\" \n",
    "writer.dude = \"bob\"\n",
    "\n",
    "# all key-value pairs \n",
    "print(py_trees.display.unicode_blackboard()) \n",
    "# various filtered views \n",
    "print(py_trees.display.unicode_blackboard(key_filter={\"foo\"}))\n",
    "print(py_trees.display.unicode_blackboard(regex_filter=\"dud*\"))\n",
    "print(py_trees.display.unicode_blackboard(client_filter={reader.unique_identifier}))\n",
    "# list the clients associated with each key \n",
    "print(py_trees.display.unicode_blackboard(display_only_key_metadata=True))"
   ]
  },
  {
   "cell_type": "code",
   "execution_count": 19,
   "metadata": {},
   "outputs": [],
   "source": [
    "class Foo(py_trees.behaviour.Behaviour):\n",
    "\n",
    "    def __init__(self, name): \n",
    "        super().__init__(name=name) \n",
    "        self.blackboard = self.attach_blackboard_client(name=\"Foo Global\") \n",
    "        self.parameters = self.attach_blackboard_client(name=\"Foo Params\", namespace=\"foo_parameters_\")\n",
    "        self.state = self.attach_blackboard_client(name=\"Foo State\", namespace=\"foo_state_\")\n",
    "        # create a key 'foo_parameters_init' on the blackboard \n",
    "        self.parameters.register_key(\"init\", access=py_trees.common.Access.READ) \n",
    "        # create a key 'foo_state_number_of_noodles' on the blackboard \n",
    "        self.state.register_key(\"number_of_noodles\", access=py_trees.common.Access.WRITE)\n",
    "\n",
    "    def initialise(self): \n",
    "        self.state.number_of_noodles = self.parameters.init\n",
    "\n",
    "    def update(self): \n",
    "        self.state.number_of_noodles += 1 \n",
    "        self.feedback_message = self.state.number_of_noodles \n",
    "        if self.state.number_of_noodles > 5: \n",
    "            return py_trees.common.Status.SUCCESS\n",
    "        else: \n",
    "            return py_trees.common.Status.RUNNING"
   ]
  },
  {
   "cell_type": "code",
   "execution_count": 20,
   "metadata": {},
   "outputs": [
    {
     "name": "stdout",
     "output_type": "stream",
     "text": [
      "Number of Noodles: 4\n",
      "Number of Noodles: 5\n",
      "Number of Noodles: 6\n",
      "Number of Noodles: 4\n",
      "Number of Noodles: 5\n",
      "Number of Noodles: 6\n",
      "Number of Noodles: 4\n"
     ]
    }
   ],
   "source": [
    "configuration = py_trees.blackboard.Client(name=\"App Config\")\n",
    "configuration.register_key(\"foo_parameters_/init\", access=py_trees.common.Access.WRITE)\n",
    "configuration.foo_parameters_.init = 3\n",
    "\n",
    "foo = Foo(name=\"The Foo\") \n",
    "for i in range(1, 8): \n",
    "    foo.tick_once() \n",
    "    print(\"Number of Noodles: {}\".format(foo.feedback_message))"
   ]
  },
  {
   "cell_type": "code",
   "execution_count": 21,
   "metadata": {},
   "outputs": [
    {
     "name": "stdout",
     "output_type": "stream",
     "text": [
      "Writing C:\\Users\\shiro\\Work\\Intern\\Guildlab\\local\\GA-BT\\pytree_tutorial\\blackboard_demo.dot\n",
      "Writing C:\\Users\\shiro\\Work\\Intern\\Guildlab\\local\\GA-BT\\pytree_tutorial\\blackboard_demo.png\n",
      "Writing C:\\Users\\shiro\\Work\\Intern\\Guildlab\\local\\GA-BT\\pytree_tutorial\\blackboard_demo.svg\n"
     ]
    },
    {
     "data": {
      "text/plain": [
       "{'dot': 'C:\\\\Users\\\\shiro\\\\Work\\\\Intern\\\\Guildlab\\\\local\\\\GA-BT\\\\pytree_tutorial\\\\blackboard_demo.dot',\n",
       " 'png': 'C:\\\\Users\\\\shiro\\\\Work\\\\Intern\\\\Guildlab\\\\local\\\\GA-BT\\\\pytree_tutorial\\\\blackboard_demo.png',\n",
       " 'svg': 'C:\\\\Users\\\\shiro\\\\Work\\\\Intern\\\\Guildlab\\\\local\\\\GA-BT\\\\pytree_tutorial\\\\blackboard_demo.svg'}"
      ]
     },
     "execution_count": 21,
     "metadata": {},
     "output_type": "execute_result"
    }
   ],
   "source": [
    "# in code \n",
    "py_trees.display.render_dot_tree(py_trees.demos.blackboard.create_root())"
   ]
  }
 ],
 "metadata": {
  "kernelspec": {
   "display_name": "Python 3",
   "language": "python",
   "name": "python3"
  },
  "language_info": {
   "codemirror_mode": {
    "name": "ipython",
    "version": 3
   },
   "file_extension": ".py",
   "mimetype": "text/x-python",
   "name": "python",
   "nbconvert_exporter": "python",
   "pygments_lexer": "ipython3",
   "version": "3.7.6"
  }
 },
 "nbformat": 4,
 "nbformat_minor": 4
}

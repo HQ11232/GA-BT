{
 "cells": [
  {
   "cell_type": "code",
   "execution_count": 2,
   "metadata": {},
   "outputs": [],
   "source": [
    "from py_trees.behaviours import Success, Failure\n",
    "from py_trees.composites import Sequence, Parallel\n",
    "from py_trees import decorators\n",
    "from py_trees import display"
   ]
  },
  {
   "cell_type": "code",
   "execution_count": 10,
   "metadata": {},
   "outputs": [
    {
     "name": "stdout",
     "output_type": "stream",
     "text": [
      "Writing C:\\Users\\shiro\\Work\\Intern\\Guildlab\\local\\GA-BT\\root.dot\n",
      "Writing C:\\Users\\shiro\\Work\\Intern\\Guildlab\\local\\GA-BT\\root.png\n",
      "Writing C:\\Users\\shiro\\Work\\Intern\\Guildlab\\local\\GA-BT\\root.svg\n"
     ]
    },
    {
     "data": {
      "text/plain": [
       "{'dot': 'C:\\\\Users\\\\shiro\\\\Work\\\\Intern\\\\Guildlab\\\\local\\\\GA-BT\\\\root.dot',\n",
       " 'png': 'C:\\\\Users\\\\shiro\\\\Work\\\\Intern\\\\Guildlab\\\\local\\\\GA-BT\\\\root.png',\n",
       " 'svg': 'C:\\\\Users\\\\shiro\\\\Work\\\\Intern\\\\Guildlab\\\\local\\\\GA-BT\\\\root.svg'}"
      ]
     },
     "execution_count": 10,
     "metadata": {},
     "output_type": "execute_result"
    }
   ],
   "source": [
    "root = Sequence(name='root')\n",
    "timeout = decorators.Timeout(\n",
    "    name = 'Timeout',\n",
    "    child = Success(name=\"Timeout_condt\")\n",
    ")\n",
    "root.add_children([timeout])\n",
    "\n",
    "display.render_dot_tree(root)"
   ]
  },
  {
   "cell_type": "code",
   "execution_count": 11,
   "metadata": {},
   "outputs": [
    {
     "data": {
      "text/plain": [
       "py_trees.meta.Success"
      ]
     },
     "execution_count": 11,
     "metadata": {},
     "output_type": "execute_result"
    }
   ],
   "source": [
    "Success()"
   ]
  }
 ],
 "metadata": {
  "kernelspec": {
   "display_name": "Python 3",
   "language": "python",
   "name": "python3"
  },
  "language_info": {
   "codemirror_mode": {
    "name": "ipython",
    "version": 3
   },
   "file_extension": ".py",
   "mimetype": "text/x-python",
   "name": "python",
   "nbconvert_exporter": "python",
   "pygments_lexer": "ipython3",
   "version": "3.7.6"
  }
 },
 "nbformat": 4,
 "nbformat_minor": 4
}
